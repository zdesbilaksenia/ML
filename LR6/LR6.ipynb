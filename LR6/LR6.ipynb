{
 "cells": [
  {
   "cell_type": "markdown",
   "metadata": {
    "pycharm": {
     "name": "#%% md\n"
    }
   },
   "source": [
    "# Анализ и прогнозирование временного ряда."
   ]
  },
  {
   "cell_type": "markdown",
   "metadata": {
    "pycharm": {
     "name": "#%% md\n"
    }
   },
   "source": [
    "Цель лабораторной работы: изучение основных методов анализа и прогнозирование временных рядов."
   ]
  },
  {
   "cell_type": "markdown",
   "metadata": {
    "pycharm": {
     "name": "#%% md\n"
    }
   },
   "source": [
    "\n",
    "    1) Выберите набор данных (датасет) для решения задачи прогнозирования временного ряда.\n",
    "    2) Визуализируйте временной ряд и его основные характеристики.\n",
    "    3) Разделите временной ряд на обучающую и тестовую выборку.\n",
    "    4) Произведите прогнозирование временного ряда с использованием как минимум двух методов.\n",
    "    5) Визуализируйте тестовую выборку и каждый из прогнозов.\n",
    "    6) Оцените качество прогноза в каждом случае с помощью метрик.\n"
   ]
  },
  {
   "cell_type": "markdown",
   "metadata": {
    "pycharm": {
     "name": "#%% md\n"
    }
   },
   "source": [
    "## 1) Выберите набор данных (датасет) для решения задачи прогнозирования временного ряда."
   ]
  },
  {
   "cell_type": "markdown",
   "metadata": {
    "pycharm": {
     "name": "#%% md\n"
    }
   },
   "source": [
    "### Импорт библиотек"
   ]
  },
  {
   "cell_type": "code",
   "execution_count": 1,
   "metadata": {
    "pycharm": {
     "name": "#%%\n"
    }
   },
   "outputs": [],
   "source": [
    "import numpy as np\n",
    "import pandas as pd\n",
    "import seaborn as sns\n",
    "import matplotlib.pyplot as plt\n",
    "import plotly.io as pio\n",
    "import plotly.express as px\n",
    "import plotly.figure_factory as ff\n",
    "from sklearn.model_selection import GridSearchCV\n",
    "from sklearn.preprocessing import MinMaxScaler\n",
    "from sklearn.preprocessing import StandardScaler\n",
    "from sklearn.model_selection import train_test_split\n",
    "from sklearn.svm import SVC\n",
    "from sklearn.tree import DecisionTreeClassifier\n",
    "from sklearn.linear_model import LogisticRegression\n",
    "from sklearn.ensemble import GradientBoostingClassifier, RandomForestClassifier\n",
    "from sklearn.neighbors import KNeighborsClassifier, KNeighborsRegressor\n",
    "from sklearn.preprocessing import LabelEncoder\n",
    "from sklearn.metrics import precision_score, recall_score, f1_score, classification_report\n",
    "from sklearn.metrics import roc_curve, roc_auc_score, accuracy_score, confusion_matrix, plot_confusion_matrix\n",
    "from sklearn.model_selection import GridSearchCV, RandomizedSearchCV\n",
    "from scipy.stats import randint, uniform\n",
    "from sklearn.ensemble import GradientBoostingClassifier\n",
    "from sklearn.metrics import accuracy_score, confusion_matrix, roc_auc_score, ConfusionMatrixDisplay, precision_score, recall_score, f1_score, classification_report, roc_curve, plot_roc_curve, auc, precision_recall_curve, plot_precision_recall_curve, average_precision_score\n",
    "\n",
    "from datetime import date\n",
    "\n",
    "\n",
    "import statsmodels.api as sm\n",
    "\n",
    "\n",
    "\n",
    "\n",
    "from matplotlib import pyplot\n",
    "import matplotlib.pyplot as plt\n",
    "\n",
    "# скроем предупреждения о возможных ошибках для лучшей читаемости\n",
    "import warnings\n",
    "warnings.filterwarnings('ignore')"
   ]
  },
  {
   "cell_type": "code",
   "execution_count": 2,
   "metadata": {
    "pycharm": {
     "name": "#%%\n"
    }
   },
   "outputs": [],
   "source": [
    "df = pd.read_csv('./currency_exchange_rates_02-01-1995_-_02-05-2018.csv')"
   ]
  },
  {
   "cell_type": "code",
   "execution_count": 3,
   "metadata": {
    "pycharm": {
     "name": "#%%\n"
    }
   },
   "outputs": [
    {
     "data": {
      "text/plain": [
       "Date                           object\n",
       "Algerian Dinar                float64\n",
       "Australian Dollar             float64\n",
       "Bahrain Dinar                 float64\n",
       "Bolivar Fuerte                float64\n",
       "Botswana Pula                 float64\n",
       "Brazilian Real                float64\n",
       "Brunei Dollar                 float64\n",
       "Canadian Dollar               float64\n",
       "Chilean Peso                  float64\n",
       "Chinese Yuan                  float64\n",
       "Colombian Peso                float64\n",
       "Czech Koruna                  float64\n",
       "Danish Krone                  float64\n",
       "Euro                          float64\n",
       "Hungarian Forint              float64\n",
       "Icelandic Krona               float64\n",
       "Indian Rupee                  float64\n",
       "Indonesian Rupiah             float64\n",
       "Iranian Rial                  float64\n",
       "Israeli New Sheqel            float64\n",
       "Japanese Yen                  float64\n",
       "Kazakhstani Tenge             float64\n",
       "Korean Won                    float64\n",
       "Kuwaiti Dinar                 float64\n",
       "Libyan Dinar                  float64\n",
       "Malaysian Ringgit             float64\n",
       "Mauritian Rupee               float64\n",
       "Mexican Peso                  float64\n",
       "Nepalese Rupee                float64\n",
       "New Zealand Dollar            float64\n",
       "Norwegian Krone               float64\n",
       "Nuevo Sol                     float64\n",
       "Pakistani Rupee               float64\n",
       "Peso Uruguayo                 float64\n",
       "Philippine Peso               float64\n",
       "Polish Zloty                  float64\n",
       "Qatar Riyal                   float64\n",
       "Rial Omani                    float64\n",
       "Russian Ruble                 float64\n",
       "Saudi Arabian Riyal           float64\n",
       "Singapore Dollar              float64\n",
       "South African Rand            float64\n",
       "Sri Lanka Rupee               float64\n",
       "Swedish Krona                 float64\n",
       "Swiss Franc                   float64\n",
       "Thai Baht                     float64\n",
       "Trinidad And Tobago Dollar    float64\n",
       "Tunisian Dinar                float64\n",
       "U.A.E. Dirham                 float64\n",
       "U.K. Pound Sterling           float64\n",
       "U.S. Dollar                   float64\n",
       "dtype: object"
      ]
     },
     "execution_count": 3,
     "metadata": {},
     "output_type": "execute_result"
    }
   ],
   "source": [
    "df.dtypes"
   ]
  },
  {
   "cell_type": "code",
   "execution_count": 4,
   "metadata": {
    "pycharm": {
     "name": "#%%\n"
    }
   },
   "outputs": [
    {
     "data": {
      "text/plain": [
       "(2978, 52)"
      ]
     },
     "execution_count": 4,
     "metadata": {},
     "output_type": "execute_result"
    }
   ],
   "source": [
    "df.shape"
   ]
  },
  {
   "cell_type": "code",
   "execution_count": 5,
   "metadata": {
    "pycharm": {
     "name": "#%%\n"
    }
   },
   "outputs": [
    {
     "data": {
      "text/html": [
       "<div>\n",
       "<style scoped>\n",
       "    .dataframe tbody tr th:only-of-type {\n",
       "        vertical-align: middle;\n",
       "    }\n",
       "\n",
       "    .dataframe tbody tr th {\n",
       "        vertical-align: top;\n",
       "    }\n",
       "\n",
       "    .dataframe thead th {\n",
       "        text-align: right;\n",
       "    }\n",
       "</style>\n",
       "<table border=\"1\" class=\"dataframe\">\n",
       "  <thead>\n",
       "    <tr style=\"text-align: right;\">\n",
       "      <th></th>\n",
       "      <th>Algerian Dinar</th>\n",
       "      <th>Australian Dollar</th>\n",
       "      <th>Bahrain Dinar</th>\n",
       "      <th>Bolivar Fuerte</th>\n",
       "      <th>Botswana Pula</th>\n",
       "      <th>Brazilian Real</th>\n",
       "      <th>Brunei Dollar</th>\n",
       "      <th>Canadian Dollar</th>\n",
       "      <th>Chilean Peso</th>\n",
       "      <th>Chinese Yuan</th>\n",
       "      <th>...</th>\n",
       "      <th>South African Rand</th>\n",
       "      <th>Sri Lanka Rupee</th>\n",
       "      <th>Swedish Krona</th>\n",
       "      <th>Swiss Franc</th>\n",
       "      <th>Thai Baht</th>\n",
       "      <th>Trinidad And Tobago Dollar</th>\n",
       "      <th>Tunisian Dinar</th>\n",
       "      <th>U.A.E. Dirham</th>\n",
       "      <th>U.K. Pound Sterling</th>\n",
       "      <th>U.S. Dollar</th>\n",
       "    </tr>\n",
       "  </thead>\n",
       "  <tbody>\n",
       "    <tr>\n",
       "      <th>count</th>\n",
       "      <td>0.0</td>\n",
       "      <td>2846.000000</td>\n",
       "      <td>2.948000e+03</td>\n",
       "      <td>0.0</td>\n",
       "      <td>1887.000000</td>\n",
       "      <td>2676.000000</td>\n",
       "      <td>1910.000000</td>\n",
       "      <td>2785.000000</td>\n",
       "      <td>1902.000000</td>\n",
       "      <td>1881.000000</td>\n",
       "      <td>...</td>\n",
       "      <td>2663.000000</td>\n",
       "      <td>2720.000000</td>\n",
       "      <td>2790.000000</td>\n",
       "      <td>2837.000000</td>\n",
       "      <td>2683.000000</td>\n",
       "      <td>2568.000000</td>\n",
       "      <td>0.0</td>\n",
       "      <td>2949.000000</td>\n",
       "      <td>2911.000000</td>\n",
       "      <td>2978.0</td>\n",
       "    </tr>\n",
       "    <tr>\n",
       "      <th>mean</th>\n",
       "      <td>NaN</td>\n",
       "      <td>0.670354</td>\n",
       "      <td>3.760000e-01</td>\n",
       "      <td>NaN</td>\n",
       "      <td>0.299010</td>\n",
       "      <td>1.939318</td>\n",
       "      <td>1.717508</td>\n",
       "      <td>1.412722</td>\n",
       "      <td>568.992434</td>\n",
       "      <td>8.253424</td>\n",
       "      <td>...</td>\n",
       "      <td>6.394235</td>\n",
       "      <td>79.045812</td>\n",
       "      <td>8.156801</td>\n",
       "      <td>1.412337</td>\n",
       "      <td>37.277911</td>\n",
       "      <td>6.195019</td>\n",
       "      <td>NaN</td>\n",
       "      <td>3.672109</td>\n",
       "      <td>1.625574</td>\n",
       "      <td>1.0</td>\n",
       "    </tr>\n",
       "    <tr>\n",
       "      <th>std</th>\n",
       "      <td>NaN</td>\n",
       "      <td>0.091659</td>\n",
       "      <td>5.552057e-17</td>\n",
       "      <td>NaN</td>\n",
       "      <td>0.668351</td>\n",
       "      <td>0.816010</td>\n",
       "      <td>0.062274</td>\n",
       "      <td>0.118059</td>\n",
       "      <td>79.590357</td>\n",
       "      <td>0.071618</td>\n",
       "      <td>...</td>\n",
       "      <td>1.970454</td>\n",
       "      <td>18.622141</td>\n",
       "      <td>1.126076</td>\n",
       "      <td>0.180703</td>\n",
       "      <td>7.036977</td>\n",
       "      <td>0.133683</td>\n",
       "      <td>NaN</td>\n",
       "      <td>0.000659</td>\n",
       "      <td>0.127571</td>\n",
       "      <td>0.0</td>\n",
       "    </tr>\n",
       "    <tr>\n",
       "      <th>min</th>\n",
       "      <td>NaN</td>\n",
       "      <td>0.483300</td>\n",
       "      <td>3.760000e-01</td>\n",
       "      <td>NaN</td>\n",
       "      <td>0.132750</td>\n",
       "      <td>0.832000</td>\n",
       "      <td>1.000000</td>\n",
       "      <td>1.099000</td>\n",
       "      <td>377.500000</td>\n",
       "      <td>7.997600</td>\n",
       "      <td>...</td>\n",
       "      <td>3.530000</td>\n",
       "      <td>49.570000</td>\n",
       "      <td>6.448500</td>\n",
       "      <td>1.123600</td>\n",
       "      <td>24.440000</td>\n",
       "      <td>5.839300</td>\n",
       "      <td>NaN</td>\n",
       "      <td>3.671000</td>\n",
       "      <td>1.374700</td>\n",
       "      <td>1.0</td>\n",
       "    </tr>\n",
       "    <tr>\n",
       "      <th>25%</th>\n",
       "      <td>NaN</td>\n",
       "      <td>0.592800</td>\n",
       "      <td>3.760000e-01</td>\n",
       "      <td>NaN</td>\n",
       "      <td>0.178450</td>\n",
       "      <td>1.093300</td>\n",
       "      <td>1.677700</td>\n",
       "      <td>1.353900</td>\n",
       "      <td>513.500000</td>\n",
       "      <td>8.276600</td>\n",
       "      <td>...</td>\n",
       "      <td>4.700000</td>\n",
       "      <td>60.122500</td>\n",
       "      <td>7.367200</td>\n",
       "      <td>1.259200</td>\n",
       "      <td>36.225000</td>\n",
       "      <td>6.179100</td>\n",
       "      <td>NaN</td>\n",
       "      <td>3.671000</td>\n",
       "      <td>1.546800</td>\n",
       "      <td>1.0</td>\n",
       "    </tr>\n",
       "    <tr>\n",
       "      <th>50%</th>\n",
       "      <td>NaN</td>\n",
       "      <td>0.675100</td>\n",
       "      <td>3.760000e-01</td>\n",
       "      <td>NaN</td>\n",
       "      <td>0.194200</td>\n",
       "      <td>1.886900</td>\n",
       "      <td>1.717000</td>\n",
       "      <td>1.409800</td>\n",
       "      <td>540.610000</td>\n",
       "      <td>8.277000</td>\n",
       "      <td>...</td>\n",
       "      <td>6.185000</td>\n",
       "      <td>77.540000</td>\n",
       "      <td>7.868750</td>\n",
       "      <td>1.394900</td>\n",
       "      <td>39.475000</td>\n",
       "      <td>6.264050</td>\n",
       "      <td>NaN</td>\n",
       "      <td>3.672500</td>\n",
       "      <td>1.613000</td>\n",
       "      <td>1.0</td>\n",
       "    </tr>\n",
       "    <tr>\n",
       "      <th>75%</th>\n",
       "      <td>NaN</td>\n",
       "      <td>0.751800</td>\n",
       "      <td>3.760000e-01</td>\n",
       "      <td>NaN</td>\n",
       "      <td>0.215600</td>\n",
       "      <td>2.655125</td>\n",
       "      <td>1.752950</td>\n",
       "      <td>1.510900</td>\n",
       "      <td>619.947500</td>\n",
       "      <td>8.277500</td>\n",
       "      <td>...</td>\n",
       "      <td>7.397500</td>\n",
       "      <td>96.940000</td>\n",
       "      <td>8.673750</td>\n",
       "      <td>1.530300</td>\n",
       "      <td>42.049500</td>\n",
       "      <td>6.275900</td>\n",
       "      <td>NaN</td>\n",
       "      <td>3.672500</td>\n",
       "      <td>1.684400</td>\n",
       "      <td>1.0</td>\n",
       "    </tr>\n",
       "    <tr>\n",
       "      <th>max</th>\n",
       "      <td>NaN</td>\n",
       "      <td>0.820300</td>\n",
       "      <td>3.760000e-01</td>\n",
       "      <td>NaN</td>\n",
       "      <td>4.841400</td>\n",
       "      <td>3.954400</td>\n",
       "      <td>1.851000</td>\n",
       "      <td>1.613200</td>\n",
       "      <td>758.210000</td>\n",
       "      <td>8.746000</td>\n",
       "      <td>...</td>\n",
       "      <td>13.544500</td>\n",
       "      <td>105.473300</td>\n",
       "      <td>10.995000</td>\n",
       "      <td>1.822800</td>\n",
       "      <td>56.061000</td>\n",
       "      <td>6.327900</td>\n",
       "      <td>NaN</td>\n",
       "      <td>3.672500</td>\n",
       "      <td>1.951200</td>\n",
       "      <td>1.0</td>\n",
       "    </tr>\n",
       "  </tbody>\n",
       "</table>\n",
       "<p>8 rows × 51 columns</p>\n",
       "</div>"
      ],
      "text/plain": [
       "       Algerian Dinar  Australian Dollar  Bahrain Dinar  Bolivar Fuerte  \\\n",
       "count             0.0        2846.000000   2.948000e+03             0.0   \n",
       "mean              NaN           0.670354   3.760000e-01             NaN   \n",
       "std               NaN           0.091659   5.552057e-17             NaN   \n",
       "min               NaN           0.483300   3.760000e-01             NaN   \n",
       "25%               NaN           0.592800   3.760000e-01             NaN   \n",
       "50%               NaN           0.675100   3.760000e-01             NaN   \n",
       "75%               NaN           0.751800   3.760000e-01             NaN   \n",
       "max               NaN           0.820300   3.760000e-01             NaN   \n",
       "\n",
       "       Botswana Pula  Brazilian Real  Brunei Dollar  Canadian Dollar  \\\n",
       "count    1887.000000     2676.000000    1910.000000      2785.000000   \n",
       "mean        0.299010        1.939318       1.717508         1.412722   \n",
       "std         0.668351        0.816010       0.062274         0.118059   \n",
       "min         0.132750        0.832000       1.000000         1.099000   \n",
       "25%         0.178450        1.093300       1.677700         1.353900   \n",
       "50%         0.194200        1.886900       1.717000         1.409800   \n",
       "75%         0.215600        2.655125       1.752950         1.510900   \n",
       "max         4.841400        3.954400       1.851000         1.613200   \n",
       "\n",
       "       Chilean Peso  Chinese Yuan  ...  South African Rand  Sri Lanka Rupee  \\\n",
       "count   1902.000000   1881.000000  ...         2663.000000      2720.000000   \n",
       "mean     568.992434      8.253424  ...            6.394235        79.045812   \n",
       "std       79.590357      0.071618  ...            1.970454        18.622141   \n",
       "min      377.500000      7.997600  ...            3.530000        49.570000   \n",
       "25%      513.500000      8.276600  ...            4.700000        60.122500   \n",
       "50%      540.610000      8.277000  ...            6.185000        77.540000   \n",
       "75%      619.947500      8.277500  ...            7.397500        96.940000   \n",
       "max      758.210000      8.746000  ...           13.544500       105.473300   \n",
       "\n",
       "       Swedish Krona  Swiss Franc    Thai Baht  Trinidad And Tobago Dollar  \\\n",
       "count    2790.000000  2837.000000  2683.000000                 2568.000000   \n",
       "mean        8.156801     1.412337    37.277911                    6.195019   \n",
       "std         1.126076     0.180703     7.036977                    0.133683   \n",
       "min         6.448500     1.123600    24.440000                    5.839300   \n",
       "25%         7.367200     1.259200    36.225000                    6.179100   \n",
       "50%         7.868750     1.394900    39.475000                    6.264050   \n",
       "75%         8.673750     1.530300    42.049500                    6.275900   \n",
       "max        10.995000     1.822800    56.061000                    6.327900   \n",
       "\n",
       "       Tunisian Dinar  U.A.E. Dirham  U.K. Pound Sterling  U.S. Dollar  \n",
       "count             0.0    2949.000000          2911.000000       2978.0  \n",
       "mean              NaN       3.672109             1.625574          1.0  \n",
       "std               NaN       0.000659             0.127571          0.0  \n",
       "min               NaN       3.671000             1.374700          1.0  \n",
       "25%               NaN       3.671000             1.546800          1.0  \n",
       "50%               NaN       3.672500             1.613000          1.0  \n",
       "75%               NaN       3.672500             1.684400          1.0  \n",
       "max               NaN       3.672500             1.951200          1.0  \n",
       "\n",
       "[8 rows x 51 columns]"
      ]
     },
     "execution_count": 5,
     "metadata": {},
     "output_type": "execute_result"
    }
   ],
   "source": [
    "df.describe()"
   ]
  },
  {
   "cell_type": "code",
   "execution_count": 6,
   "metadata": {
    "pycharm": {
     "name": "#%%\n"
    }
   },
   "outputs": [
    {
     "name": "stdout",
     "output_type": "stream",
     "text": [
      "           Date  Russian Ruble\n",
      "0      1995-1-2            NaN\n",
      "1      1995-1-3            NaN\n",
      "2      1995-1-4            NaN\n",
      "3      1995-1-5            NaN\n",
      "4      1995-1-6            NaN\n",
      "...         ...            ...\n",
      "2973  2006-6-15        27.0369\n",
      "2974  2006-6-16        26.9869\n",
      "2975  2006-6-19        27.0379\n",
      "2976  2006-6-20        27.0450\n",
      "2977  2006-6-21        27.0163\n",
      "\n",
      "[2978 rows x 2 columns]\n"
     ]
    }
   ],
   "source": [
    "selected_columns = df[[\"Date\",\"Russian Ruble\"]]\n",
    "\n",
    "new_df = selected_columns.copy()\n",
    "\n",
    "print(new_df)"
   ]
  },
  {
   "cell_type": "code",
   "execution_count": 7,
   "metadata": {
    "pycharm": {
     "name": "#%%\n"
    }
   },
   "outputs": [],
   "source": [
    "df = new_df[df['Russian Ruble'].notna()]"
   ]
  },
  {
   "cell_type": "code",
   "execution_count": 8,
   "metadata": {
    "pycharm": {
     "name": "#%%\n"
    }
   },
   "outputs": [
    {
     "name": "stdout",
     "output_type": "stream",
     "text": [
      "           Date  Russian Ruble\n",
      "0      1995-1-2            NaN\n",
      "1      1995-1-3            NaN\n",
      "2      1995-1-4            NaN\n",
      "3      1995-1-5            NaN\n",
      "4      1995-1-6            NaN\n",
      "...         ...            ...\n",
      "2973  2006-6-15        27.0369\n",
      "2974  2006-6-16        26.9869\n",
      "2975  2006-6-19        27.0379\n",
      "2976  2006-6-20        27.0450\n",
      "2977  2006-6-21        27.0163\n",
      "\n",
      "[2978 rows x 2 columns]\n"
     ]
    }
   ],
   "source": [
    "print(new_df)"
   ]
  },
  {
   "cell_type": "code",
   "execution_count": 9,
   "metadata": {
    "pycharm": {
     "name": "#%%\n"
    }
   },
   "outputs": [
    {
     "data": {
      "text/plain": [
       "Date             0\n",
       "Russian Ruble    0\n",
       "dtype: int64"
      ]
     },
     "execution_count": 9,
     "metadata": {},
     "output_type": "execute_result"
    }
   ],
   "source": [
    "df.isnull().sum()"
   ]
  },
  {
   "cell_type": "markdown",
   "metadata": {
    "pycharm": {
     "name": "#%% md\n"
    }
   },
   "source": [
    "## 2) Визуализируйте временной ряд и его основные характеристики."
   ]
  },
  {
   "cell_type": "code",
   "execution_count": 10,
   "metadata": {
    "pycharm": {
     "name": "#%%\n"
    }
   },
   "outputs": [
    {
     "data": {
      "image/png": "[encoded data removed]",
      "text/plain": [
       "<Figure size 720x360 with 1 Axes>"
      ]
     },
     "metadata": {
      "needs_background": "light"
     },
     "output_type": "display_data"
    }
   ],
   "source": [
    "fig, ax = pyplot.subplots(1, 1, sharex='col', sharey='row', figsize=(10,5))\n",
    "fig.suptitle('Временной ряд в виде графика')\n",
    "df.plot(ax=ax, legend=False)\n",
    "pyplot.show()"
   ]
  },
  {
   "cell_type": "code",
   "execution_count": 11,
   "metadata": {
    "pycharm": {
     "name": "#%%\n"
    }
   },
   "outputs": [
    {
     "data": {
      "image/png": "[encoded data removed]",
      "text/plain": [
       "<Figure size 720x360 with 1 Axes>"
      ]
     },
     "metadata": {
      "needs_background": "light"
     },
     "output_type": "display_data"
    }
   ],
   "source": [
    "fig, ax = pyplot.subplots(1, 1, sharex='col', sharey='row', figsize=(10,5))\n",
    "fig.suptitle('Временной ряд в виде отдельных точек')\n",
    "df[:100].plot(ax=ax, legend=False, style='bo')\n",
    "pyplot.show()"
   ]
  },
  {
   "cell_type": "code",
   "execution_count": 12,
   "metadata": {
    "pycharm": {
     "name": "#%%\n"
    }
   },
   "outputs": [
    {
     "data": {
      "image/png": "[encoded data removed]",
      "text/plain": [
       "<Figure size 720x360 with 1 Axes>"
      ]
     },
     "metadata": {
      "needs_background": "light"
     },
     "output_type": "display_data"
    }
   ],
   "source": [
    "fig, ax = pyplot.subplots(1, 1, sharex='col', sharey='row', figsize=(10,5))\n",
    "fig.suptitle('Гистограмма')\n",
    "df.hist(ax=ax, legend=False)\n",
    "pyplot.show()"
   ]
  },
  {
   "cell_type": "code",
   "execution_count": 13,
   "metadata": {
    "pycharm": {
     "name": "#%%\n"
    }
   },
   "outputs": [
    {
     "data": {
      "image/png": "[encoded data removed]",
      "text/plain": [
       "<Figure size 720x360 with 1 Axes>"
      ]
     },
     "metadata": {
      "needs_background": "light"
     },
     "output_type": "display_data"
    }
   ],
   "source": [
    "fig, ax = pyplot.subplots(1, 1, sharex='col', sharey='row', figsize=(10,5))\n",
    "fig.suptitle('Плотность вероятности распределения данных')\n",
    "df.plot(ax=ax, kind='kde', legend=False)\n",
    "pyplot.show()"
   ]
  },
  {
   "cell_type": "code",
   "execution_count": 14,
   "metadata": {
    "pycharm": {
     "name": "#%%\n"
    }
   },
   "outputs": [
    {
     "data": {
      "text/plain": [
       "(722, 2)"
      ]
     },
     "execution_count": 14,
     "metadata": {},
     "output_type": "execute_result"
    }
   ],
   "source": [
    "df.shape"
   ]
  },
  {
   "cell_type": "code",
   "execution_count": 15,
   "metadata": {
    "pycharm": {
     "name": "#%%\n"
    }
   },
   "outputs": [
    {
     "data": {
      "text/plain": [
       "(722, 1)"
      ]
     },
     "execution_count": 15,
     "metadata": {},
     "output_type": "execute_result"
    }
   ],
   "source": [
    "df_Rubles = df[[\"Russian Ruble\"]]\n",
    "\n",
    "df_Rubles = df_Rubles.copy()\n",
    "\n",
    "df_Rubles.shape"
   ]
  },
  {
   "cell_type": "markdown",
   "metadata": {
    "pycharm": {
     "name": "#%% md\n"
    }
   },
   "source": [
    "\n",
    "#### Lag Plots\n",
    "\n",
    "Диаграмма позволяет понять автокорреляцию в данных временного ряда. Может рассматриваться (хотя это весьма грубое сравнение) как аналог корреляционной матрицы для временного ряда.\n",
    "По оси абсцисс откладывается значение временного ряда.\n",
    "По оси ординат для каждой точки откладывается ее лаг порядка i, где i - параметр, задаваемый пользователем."
   ]
  },
  {
   "cell_type": "code",
   "execution_count": 16,
   "metadata": {
    "pycharm": {
     "name": "#%%\n"
    }
   },
   "outputs": [
    {
     "data": {
      "image/png": "[encoded data removed]",
      "text/plain": [
       "<Figure size 360x288 with 1 Axes>"
      ]
     },
     "metadata": {
      "needs_background": "light"
     },
     "output_type": "display_data"
    },
    {
     "data": {
      "image/png": "[encoded data removed]",
      "text/plain": [
       "<Figure size 360x288 with 1 Axes>"
      ]
     },
     "metadata": {
      "needs_background": "light"
     },
     "output_type": "display_data"
    },
    {
     "data": {
      "image/png": "[encoded data removed]",
      "text/plain": [
       "<Figure size 360x288 with 1 Axes>"
      ]
     },
     "metadata": {
      "needs_background": "light"
     },
     "output_type": "display_data"
    },
    {
     "data": {
      "image/png": "[encoded data removed]",
      "text/plain": [
       "<Figure size 360x288 with 1 Axes>"
      ]
     },
     "metadata": {
      "needs_background": "light"
     },
     "output_type": "display_data"
    }
   ],
   "source": [
    "for i in range(1, 5):\n",
    "    fig, ax = pyplot.subplots(1, 1, sharex='col', sharey='row', figsize=(5,4))\n",
    "    fig.suptitle(f'Лаг порядка {i}')\n",
    "    pd.plotting.lag_plot(df_Rubles, lag=i, ax=ax)\n",
    "    pyplot.show()"
   ]
  },
  {
   "cell_type": "markdown",
   "metadata": {
    "pycharm": {
     "name": "#%% md\n"
    }
   },
   "source": [
    "Если облако точек направлено из левого нижнего угла в правый верхний, то имеет место положительная автокорреляция."
   ]
  },
  {
   "cell_type": "code",
   "execution_count": 17,
   "metadata": {
    "pycharm": {
     "name": "#%%\n"
    }
   },
   "outputs": [
    {
     "data": {
      "image/png": "[encoded data removed]",
      "text/plain": [
       "<Figure size 720x360 with 1 Axes>"
      ]
     },
     "metadata": {
      "needs_background": "light"
     },
     "output_type": "display_data"
    }
   ],
   "source": [
    "# По оси Y откладывается ковариация \n",
    "# https://stats.stackexchange.com/questions/357300/what-does-pandas-autocorrelation-graph-show\n",
    "\n",
    "fig, ax = pyplot.subplots(1, 1, sharex='col', sharey='row', figsize=(10,5))\n",
    "fig.suptitle('Автокорреляционная диаграмма')\n",
    "pd.plotting.autocorrelation_plot(df_Rubles, ax=ax)\n",
    "pyplot.show()"
   ]
  },
  {
   "cell_type": "markdown",
   "metadata": {
    "pycharm": {
     "name": "#%% md\n"
    }
   },
   "source": [
    "\n",
    "#### Автокорреляционная функция\n",
    "\n",
    "Показывает зависимость коэффициента корреляции от лага, то есть корреляцию между исходным временным рядом и временным рядом,сдвинутым на заданный лаг.\n"
   ]
  },
  {
   "cell_type": "code",
   "execution_count": 18,
   "metadata": {
    "pycharm": {
     "name": "#%%\n"
    }
   },
   "outputs": [
    {
     "data": {
      "image/png": "[encoded data removed]",
      "text/plain": [
       "<Figure size 432x288 with 1 Axes>"
      ]
     },
     "metadata": {
      "needs_background": "light"
     },
     "output_type": "display_data"
    }
   ],
   "source": [
    "from statsmodels.graphics.tsaplots import plot_acf\n",
    "plot_acf(df_Rubles, lags=30)\n",
    "plt.tight_layout()"
   ]
  },
  {
   "cell_type": "markdown",
   "metadata": {
    "pycharm": {
     "name": "#%% md\n"
    }
   },
   "source": [
    "#### Частичная автокорреляционная функция\n",
    "\n",
    "Находит корреляцию остатков, которые остается после удаления эффектов, объясняемых более ранними лагами."
   ]
  },
  {
   "cell_type": "code",
   "execution_count": 19,
   "metadata": {
    "pycharm": {
     "name": "#%%\n"
    }
   },
   "outputs": [
    {
     "data": {
      "image/png": "[encoded data removed]",
      "text/plain": [
       "<Figure size 432x288 with 1 Axes>"
      ]
     },
     "metadata": {
      "needs_background": "light"
     },
     "output_type": "display_data"
    }
   ],
   "source": [
    "from statsmodels.graphics.tsaplots import plot_pacf\n",
    "plot_pacf(df_Rubles, lags=30)\n",
    "plt.tight_layout()"
   ]
  }
 ],
 "metadata": {
  "interpreter": {
   "hash": "47e3f425e1f5e080840b02324288bfe2474c53b4d8fc90d3d863797934e6a5da"
  },
  "kernelspec": {
   "display_name": "Python 3.9.13 64-bit (windows store)",
   "language": "python",
   "name": "python3"
  },
  "language_info": {
   "codemirror_mode": {
    "name": "ipython",
    "version": 3
   },
   "file_extension": ".py",
   "mimetype": "text/x-python",
   "name": "python",
   "nbconvert_exporter": "python",
   "pygments_lexer": "ipython3",
   "version": "3.9.13"
  },
  "orig_nbformat": 4
 },
 "nbformat": 4,
 "nbformat_minor": 2
}