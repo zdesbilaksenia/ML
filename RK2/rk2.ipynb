{
 "cells": [
  {
   "cell_type": "markdown",
   "id": "a6717b45",
   "metadata": {
    "pycharm": {
     "name": "#%% md\n"
    }
   },
   "source": [
    "# ИУ5-62Б Никитина К.В."
   ]
  },
  {
   "cell_type": "markdown",
   "id": "254c4162",
   "metadata": {
    "pycharm": {
     "name": "#%% md\n"
    }
   },
   "source": [
    "## Рубежный контроль №2"
   ]
  },
  {
   "cell_type": "markdown",
   "id": "605f7ceb",
   "metadata": {},
   "source": [
    "### Задача\n",
    "Для заданного набора данных (по Вашему варианту) постройте модели классификации или регрессии (в зависимости от конкретной задачи, рассматриваемой в наборе данных). Для построения моделей используйте методы 1 и 2 (по варианту для Вашей группы). Оцените качество моделей на основе подходящих метрик качества (не менее двух метрик). Какие метрики качества Вы использовали и почему? Какие выводы Вы можете сделать о качестве построенных моделей? Для построения моделей необходимо выполнить требуемую предобработку данных: заполнение пропусков, кодирование категориальных признаков, и т.д."
   ]
  },
  {
   "cell_type": "markdown",
   "id": "4a3b1381",
   "metadata": {},
   "source": [
    "### Набор данных\n",
    "https://www.kaggle.com/rhuebner/human-resources-data-set"
   ]
  },
  {
   "cell_type": "markdown",
   "id": "065d500c",
   "metadata": {},
   "source": [
    "### Методы\n",
    "* метод опорных векторов\n",
    "* случайный лес"
   ]
  },
  {
   "cell_type": "markdown",
   "id": "ad0aa220",
   "metadata": {},
   "source": [
    "## Решение"
   ]
  },
  {
   "cell_type": "code",
   "execution_count": 58,
   "id": "a6d8b041",
   "metadata": {},
   "outputs": [],
   "source": [
    "\n",
    "import pandas as pd\n",
    "import numpy as np\n",
    "import matplotlib.pyplot as plt\n",
    "from sklearn import preprocessing\n",
    "import seaborn as sns\n",
    "import matplotlib.pyplot as plt\n",
    "import seaborn as sns\n",
    "from sklearn.datasets import load_iris\n",
    "from sklearn.preprocessing import StandardScaler, MinMaxScaler\n",
    "from sklearn.model_selection import train_test_split, GridSearchCV\n",
    "from sklearn.svm import SVC\n",
    "from sklearn.ensemble import RandomForestClassifier\n",
    "from sklearn.metrics import accuracy_score, precision_score, recall_score, f1_score, confusion_matrix, classification_report"
   ]
  },
  {
   "cell_type": "code",
   "execution_count": null,
   "outputs": [],
   "source": [
    "data = pd.read_csv(\"HRDataset_v14.csv\")\n",
    "data.head()"
   ],
   "metadata": {
    "collapsed": false,
    "pycharm": {
     "name": "#%%\n"
    }
   }
  },
  {
   "cell_type": "code",
   "execution_count": null,
   "outputs": [],
   "source": [
    "data.info()"
   ],
   "metadata": {
    "collapsed": false,
    "pycharm": {
     "name": "#%%\n"
    }
   }
  },
  {
   "cell_type": "code",
   "execution_count": null,
   "outputs": [],
   "source": [
    "print('Количество пропущенных значений')\n",
    "data.isnull().sum()"
   ],
   "metadata": {
    "collapsed": false,
    "pycharm": {
     "name": "#%%\n"
    }
   }
  },
  {
   "cell_type": "markdown",
   "source": [
    "Удалим строки с пропущенными значениями, которые не влияют на целевой признак."
   ],
   "metadata": {
    "collapsed": false,
    "pycharm": {
     "name": "#%% md\n"
    }
   }
  },
  {
   "cell_type": "code",
   "execution_count": null,
   "outputs": [],
   "source": [
    "data = data.dropna(subset=['DateofTermination'], axis=0)\n",
    "data = data.dropna(subset=['Termd'], axis=0)\n",
    "del data['ManagerName']\n",
    "del data['RecruitmentSource']\n",
    "del data['PerformanceScore']"
   ],
   "metadata": {
    "collapsed": false,
    "pycharm": {
     "name": "#%%\n"
    }
   }
  },
  {
   "cell_type": "code",
   "execution_count": null,
   "outputs": [],
   "source": [
    "not_number_cols = data.select_dtypes(include=['object'])\n",
    "number_cols = data.select_dtypes(exclude=['object'])\n",
    "\n",
    "le = preprocessing.LabelEncoder()\n",
    "\n",
    "for col_name in not_number_cols:\n",
    "    data[col_name] = le.fit_transform(data[col_name])"
   ],
   "metadata": {
    "collapsed": false,
    "pycharm": {
     "name": "#%%\n"
    }
   }
  },
  {
   "cell_type": "code",
   "execution_count": null,
   "outputs": [],
   "source": [
    "data"
   ],
   "metadata": {
    "collapsed": false,
    "pycharm": {
     "name": "#%%\n"
    }
   }
  },
  {
   "cell_type": "markdown",
   "source": [
    "### Выбор метрик и подготовка данных"
   ],
   "metadata": {
    "collapsed": false,
    "pycharm": {
     "name": "#%% md\n"
    }
   }
  },
  {
   "cell_type": "markdown",
   "source": [
    "Так как выполняется задача небинарной классификации и в тестовой выборке возможен дисбаланс классов, были выбраны следующие метрики:\n",
    "\n",
    "* precision;\n",
    "* recall;\n",
    "* f1-score.\n",
    "\n",
    "Всем метрикам был задан уровень детализации average='weighted'."
   ],
   "metadata": {
    "collapsed": false,
    "pycharm": {
     "name": "#%% md\n"
    }
   }
  },
  {
   "cell_type": "code",
   "execution_count": null,
   "outputs": [],
   "source": [
    "def print_metrics(y_test, y_pred):\n",
    "    rep = classification_report(y_test, y_pred, output_dict=True)\n",
    "    print(\"weighted precision:\", rep['weighted avg']['precision'])\n",
    "    print(\"weighted recall:\", rep['weighted avg']['recall'])\n",
    "    print(\"weighted f1-score:\", rep['weighted avg']['f1-score'])\n",
    "    plt.figure(figsize=(4, 3))\n",
    "    plt.title('Матрица ошибок')\n",
    "    sns.heatmap(confusion_matrix(y_test, y_pred), annot=True, cmap=\"Blues\");"
   ],
   "metadata": {
    "collapsed": false,
    "pycharm": {
     "name": "#%%\n"
    }
   }
  },
  {
   "cell_type": "code",
   "execution_count": null,
   "outputs": [],
   "source": [
    "x_train, x_test, y_train, y_test = train_test_split(data.drop(['GenderID'], axis=1), data['GenderID'], test_size=0.5, random_state=17)"
   ],
   "metadata": {
    "collapsed": false,
    "pycharm": {
     "name": "#%%\n"
    }
   }
  },
  {
   "cell_type": "markdown",
   "source": [
    "### SVC. Базовая модель."
   ],
   "metadata": {
    "collapsed": false,
    "pycharm": {
     "name": "#%% md\n"
    }
   }
  },
  {
   "cell_type": "code",
   "execution_count": null,
   "outputs": [],
   "source": [
    "scaler = StandardScaler().fit(x_train)\n",
    "x_train_scaled = pd.DataFrame(scaler.transform(x_train), columns=x_train.columns)\n",
    "x_test_scaled = pd.DataFrame(scaler.transform(x_test), columns=x_train.columns)\n",
    "x_train_scaled.describe()"
   ],
   "metadata": {
    "collapsed": false,
    "pycharm": {
     "name": "#%%\n"
    }
   }
  },
  {
   "cell_type": "code",
   "execution_count": null,
   "outputs": [],
   "source": [
    "svm_model = SVC()\n",
    "svm_model.fit(x_train_scaled, y_train)\n",
    "y_pred_svm = svm_model.predict(x_test_scaled)\n",
    "print_metrics(y_test, y_pred_svm)"
   ],
   "metadata": {
    "collapsed": false,
    "pycharm": {
     "name": "#%%\n"
    }
   }
  },
  {
   "cell_type": "markdown",
   "source": [
    "### Подбор гиперпараметров"
   ],
   "metadata": {
    "collapsed": false,
    "pycharm": {
     "name": "#%% md\n"
    }
   }
  },
  {
   "cell_type": "code",
   "execution_count": null,
   "outputs": [],
   "source": [
    "params = {'C': np.concatenate([np.arange(0.1, 2, 0.03), np.arange(2, 20, 1)])}\n",
    "grid_cv = GridSearchCV(estimator=svm_model, param_grid=params, cv=10, n_jobs=-1, scoring='f1_macro')\n",
    "grid_cv.fit(x_train_scaled, y_train)\n",
    "print(grid_cv.best_params_)"
   ],
   "metadata": {
    "collapsed": false,
    "pycharm": {
     "name": "#%%\n"
    }
   }
  },
  {
   "cell_type": "markdown",
   "source": [
    "Лучшая модель"
   ],
   "metadata": {
    "collapsed": false,
    "pycharm": {
     "name": "#%% md\n"
    }
   }
  },
  {
   "cell_type": "code",
   "execution_count": null,
   "outputs": [],
   "source": [
    "best_svm_model = grid_cv.best_estimator_\n",
    "best_svm_model.fit(x_train_scaled, y_train)\n",
    "y_pred_svm = best_svm_model.predict(x_test_scaled)\n",
    "print_metrics(y_test, y_pred_svm)"
   ],
   "metadata": {
    "collapsed": false,
    "pycharm": {
     "name": "#%%\n"
    }
   }
  },
  {
   "cell_type": "markdown",
   "source": [
    "### RandomForestClassifier"
   ],
   "metadata": {
    "collapsed": false,
    "pycharm": {
     "name": "#%% md\n"
    }
   }
  },
  {
   "cell_type": "markdown",
   "source": [
    "Базовая модель"
   ],
   "metadata": {
    "collapsed": false,
    "pycharm": {
     "name": "#%% md\n"
    }
   }
  },
  {
   "cell_type": "code",
   "execution_count": null,
   "outputs": [],
   "source": [
    "rfc_model = RandomForestClassifier()\n",
    "rfc_model.fit(x_train, y_train)\n",
    "y_pred_rfc = rfc_model.predict(x_test)\n",
    "print_metrics(y_test, y_pred_rfc)"
   ],
   "metadata": {
    "collapsed": false,
    "pycharm": {
     "name": "#%%\n"
    }
   }
  },
  {
   "cell_type": "markdown",
   "source": [
    "Подбор гиперпараметров"
   ],
   "metadata": {
    "collapsed": false,
    "pycharm": {
     "name": "#%% md\n"
    }
   }
  },
  {
   "cell_type": "code",
   "execution_count": null,
   "outputs": [],
   "source": [
    "params = {'n_estimators': [5, 10, 50, 100], 'max_features': [2, 3, 4], 'criterion': ['gini', 'entropy'], 'min_samples_leaf': [1, 2, 3, 4, 5]}\n",
    "grid_cv = GridSearchCV(estimator=rfc_model, param_grid=params, cv=10, n_jobs=-1, scoring='f1_weighted')\n",
    "grid_cv.fit(x_train, y_train)\n",
    "print(grid_cv.best_params_)"
   ],
   "metadata": {
    "collapsed": false,
    "pycharm": {
     "name": "#%%\n"
    }
   }
  },
  {
   "cell_type": "markdown",
   "id": "7398f62a",
   "metadata": {},
   "source": [
    "Лучшая модель"
   ]
  },
  {
   "cell_type": "code",
   "execution_count": 93,
   "id": "11d58a07",
   "metadata": {},
   "outputs": [
    {
     "name": "stdout",
     "output_type": "stream",
     "text": [
      "weighted precision: 1.0\n",
      "weighted recall: 1.0\n",
      "weighted f1-score: 1.0\n"
     ]
    },
    {
     "data": {
      "image/png": "[encoded data removed]",
      "text/plain": [
       "<Figure size 288x216 with 2 Axes>"
      ]
     },
     "metadata": {
      "needs_background": "light"
     },
     "output_type": "display_data"
    }
   ],
   "source": [
    "best_rfc_model = grid_cv.best_estimator_\n",
    "best_rfc_model.fit(x_train, y_train)\n",
    "y_pred_rfc = best_rfc_model.predict(x_test)\n",
    "print_metrics(y_test, y_pred_rfc)"
   ]
  },
  {
   "cell_type": "markdown",
   "id": "68a51353",
   "metadata": {},
   "source": [
    "Сравнение результатов"
   ]
  },
  {
   "cell_type": "code",
   "execution_count": 94,
   "id": "2d92f1f2",
   "metadata": {},
   "outputs": [
    {
     "name": "stdout",
     "output_type": "stream",
     "text": [
      "SVC result\n",
      "\n",
      "weighted precision: 0.9427978318533042\n",
      "weighted recall: 0.9423076923076923\n",
      "weighted f1-score: 0.9422000172280126\n"
     ]
    },
    {
     "data": {
      "image/png": "[encoded data removed]",
      "text/plain": [
       "<Figure size 288x216 with 2 Axes>"
      ]
     },
     "metadata": {
      "needs_background": "light"
     },
     "output_type": "display_data"
    }
   ],
   "source": [
    "print(\"SVC result\\n\")\n",
    "print_metrics(y_test, y_pred_svm)"
   ]
  },
  {
   "cell_type": "code",
   "execution_count": 95,
   "id": "0d7f7b2c",
   "metadata": {},
   "outputs": [
    {
     "name": "stdout",
     "output_type": "stream",
     "text": [
      "RandomForestClassifier result\n",
      "\n",
      "weighted precision: 1.0\n",
      "weighted recall: 1.0\n",
      "weighted f1-score: 1.0\n"
     ]
    },
    {
     "data": {
      "image/png": "[encoded data removed]",
      "text/plain": [
       "<Figure size 288x216 with 2 Axes>"
      ]
     },
     "metadata": {
      "needs_background": "light"
     },
     "output_type": "display_data"
    }
   ],
   "source": [
    "print(\"RandomForestClassifier result\\n\")\n",
    "print_metrics(y_test, y_pred_rfc)"
   ]
  },
  {
   "cell_type": "markdown",
   "id": "a447580a",
   "metadata": {},
   "source": [
    "Вывод"
   ]
  },
  {
   "cell_type": "markdown",
   "id": "df9908c7",
   "metadata": {},
   "source": [
    "Модели с подобранными гиперпараметрами оказались лучше базовых моделей. Обе конечные модели показали очень высокую точность прогноза, что объясняется спецификой используемого \"игрушечного\" датасета. Из матриц ошибок видим, что обе модели совершили по 2 неверных прогноза из 75, однако ошибки у них разные. Метрики показывают, что качества рассматриваемых моделей практически одинаковое: отличия начинаются лишь в 4 знаке после запятой."
   ]
  }
 ],
 "metadata": {
  "kernelspec": {
   "display_name": "Python 3 (ipykernel)",
   "language": "python",
   "name": "python3"
  },
  "language_info": {
   "codemirror_mode": {
    "name": "ipython",
    "version": 3
   },
   "file_extension": ".py",
   "mimetype": "text/x-python",
   "name": "python",
   "nbconvert_exporter": "python",
   "pygments_lexer": "ipython3",
   "version": "3.9.7"
  }
 },
 "nbformat": 4,
 "nbformat_minor": 5
}