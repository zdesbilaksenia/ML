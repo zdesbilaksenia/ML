{
 "cells": [
  {
   "cell_type": "markdown",
   "metadata": {
    "pycharm": {
     "name": "#%% md\n"
    }
   },
   "source": [
    "<h1>ИУ5-62Б Никитина Ксения</h1>"
   ]
  },
  {
   "cell_type": "markdown",
   "metadata": {
    "pycharm": {
     "name": "#%% md\n"
    }
   },
   "source": [
    "<h2>РК2. Вариант 13</h2>\n",
    "\n",
    "Задание. Для заданного набора данных (по Вашему варианту) постройте модели классификации или регрессии (в зависимости от конкретной задачи, рассматриваемой в наборе данных). Для построения моделей используйте методы: Метод опорных векторов, Случайный лес. Оцените качество моделей на основе подходящих метрик качества (не менее двух метрик). Какие метрики качества Вы использовали и почему? Какие выводы Вы можете сделать о качестве построенных моделей? Для построения моделей необходимо выполнить требуемую предобработку данных: заполнение пропусков, кодирование категориальных признаков, и т.д."
   ]
  },
  {
   "cell_type": "code",
   "execution_count": 11,
   "metadata": {
    "pycharm": {
     "name": "#%%\n"
    }
   },
   "outputs": [],
   "source": [
    "import numpy as np\n",
    "import pandas as pd\n",
    "import seaborn as sns\n",
    "import matplotlib.pyplot as plt\n",
    "from sklearn.preprocessing import LabelEncoder\n",
    "from sklearn.model_selection import train_test_split,  GridSearchCV\n",
    "from sklearn.metrics import classification_report\n",
    "from sklearn.metrics import confusion_matrix\n",
    "from sklearn.svm import SVC\n",
    "from sklearn.ensemble import RandomForestClassifier"
   ]
  },
  {
   "cell_type": "code",
   "execution_count": 12,
   "metadata": {
    "pycharm": {
     "name": "#%%\n"
    }
   },
   "outputs": [
    {
     "data": {
      "text/plain": "   page_id                                 name  \\\n0     1678            Spider-Man (Peter Parker)   \n1     7139      Captain America (Steven Rogers)   \n2    64786  Wolverine (James \\\"Logan\\\" Howlett)   \n3     1868    Iron Man (Anthony \\\"Tony\\\" Stark)   \n4     2460                  Thor (Thor Odinson)   \n\n                                   urlslug                ID  \\\n0              \\/Spider-Man_(Peter_Parker)   Secret Identity   \n1        \\/Captain_America_(Steven_Rogers)   Public Identity   \n2  \\/Wolverine_(James_%22Logan%22_Howlett)   Public Identity   \n3    \\/Iron_Man_(Anthony_%22Tony%22_Stark)   Public Identity   \n4                    \\/Thor_(Thor_Odinson)  No Dual Identity   \n\n                ALIGN         EYE        HAIR              SEX  GSM  \\\n0     Good Characters  Hazel Eyes  Brown Hair  Male Characters  NaN   \n1     Good Characters   Blue Eyes  White Hair  Male Characters  NaN   \n2  Neutral Characters   Blue Eyes  Black Hair  Male Characters  NaN   \n3     Good Characters   Blue Eyes  Black Hair  Male Characters  NaN   \n4     Good Characters   Blue Eyes  Blond Hair  Male Characters  NaN   \n\n               ALIVE  APPEARANCES FIRST APPEARANCE    Year  \n0  Living Characters       4043.0           Aug-62  1962.0  \n1  Living Characters       3360.0           Mar-41  1941.0  \n2  Living Characters       3061.0           Oct-74  1974.0  \n3  Living Characters       2961.0           Mar-63  1963.0  \n4  Living Characters       2258.0           Nov-50  1950.0  ",
      "text/html": "<div>\n<style scoped>\n    .dataframe tbody tr th:only-of-type {\n        vertical-align: middle;\n    }\n\n    .dataframe tbody tr th {\n        vertical-align: top;\n    }\n\n    .dataframe thead th {\n        text-align: right;\n    }\n</style>\n<table border=\"1\" class=\"dataframe\">\n  <thead>\n    <tr style=\"text-align: right;\">\n      <th></th>\n      <th>page_id</th>\n      <th>name</th>\n      <th>urlslug</th>\n      <th>ID</th>\n      <th>ALIGN</th>\n      <th>EYE</th>\n      <th>HAIR</th>\n      <th>SEX</th>\n      <th>GSM</th>\n      <th>ALIVE</th>\n      <th>APPEARANCES</th>\n      <th>FIRST APPEARANCE</th>\n      <th>Year</th>\n    </tr>\n  </thead>\n  <tbody>\n    <tr>\n      <th>0</th>\n      <td>1678</td>\n      <td>Spider-Man (Peter Parker)</td>\n      <td>\\/Spider-Man_(Peter_Parker)</td>\n      <td>Secret Identity</td>\n      <td>Good Characters</td>\n      <td>Hazel Eyes</td>\n      <td>Brown Hair</td>\n      <td>Male Characters</td>\n      <td>NaN</td>\n      <td>Living Characters</td>\n      <td>4043.0</td>\n      <td>Aug-62</td>\n      <td>1962.0</td>\n    </tr>\n    <tr>\n      <th>1</th>\n      <td>7139</td>\n      <td>Captain America (Steven Rogers)</td>\n      <td>\\/Captain_America_(Steven_Rogers)</td>\n      <td>Public Identity</td>\n      <td>Good Characters</td>\n      <td>Blue Eyes</td>\n      <td>White Hair</td>\n      <td>Male Characters</td>\n      <td>NaN</td>\n      <td>Living Characters</td>\n      <td>3360.0</td>\n      <td>Mar-41</td>\n      <td>1941.0</td>\n    </tr>\n    <tr>\n      <th>2</th>\n      <td>64786</td>\n      <td>Wolverine (James \\\"Logan\\\" Howlett)</td>\n      <td>\\/Wolverine_(James_%22Logan%22_Howlett)</td>\n      <td>Public Identity</td>\n      <td>Neutral Characters</td>\n      <td>Blue Eyes</td>\n      <td>Black Hair</td>\n      <td>Male Characters</td>\n      <td>NaN</td>\n      <td>Living Characters</td>\n      <td>3061.0</td>\n      <td>Oct-74</td>\n      <td>1974.0</td>\n    </tr>\n    <tr>\n      <th>3</th>\n      <td>1868</td>\n      <td>Iron Man (Anthony \\\"Tony\\\" Stark)</td>\n      <td>\\/Iron_Man_(Anthony_%22Tony%22_Stark)</td>\n      <td>Public Identity</td>\n      <td>Good Characters</td>\n      <td>Blue Eyes</td>\n      <td>Black Hair</td>\n      <td>Male Characters</td>\n      <td>NaN</td>\n      <td>Living Characters</td>\n      <td>2961.0</td>\n      <td>Mar-63</td>\n      <td>1963.0</td>\n    </tr>\n    <tr>\n      <th>4</th>\n      <td>2460</td>\n      <td>Thor (Thor Odinson)</td>\n      <td>\\/Thor_(Thor_Odinson)</td>\n      <td>No Dual Identity</td>\n      <td>Good Characters</td>\n      <td>Blue Eyes</td>\n      <td>Blond Hair</td>\n      <td>Male Characters</td>\n      <td>NaN</td>\n      <td>Living Characters</td>\n      <td>2258.0</td>\n      <td>Nov-50</td>\n      <td>1950.0</td>\n    </tr>\n  </tbody>\n</table>\n</div>"
     },
     "execution_count": 12,
     "metadata": {},
     "output_type": "execute_result"
    }
   ],
   "source": [
    "data = pd.read_csv('marvel-wikia-data.csv')\n",
    "data.head()"
   ]
  },
  {
   "cell_type": "code",
   "execution_count": 13,
   "metadata": {
    "pycharm": {
     "name": "#%%\n"
    }
   },
   "outputs": [
    {
     "name": "stdout",
     "output_type": "stream",
     "text": [
      "<class 'pandas.core.frame.DataFrame'>\n",
      "RangeIndex: 16376 entries, 0 to 16375\n",
      "Data columns (total 13 columns):\n",
      " #   Column            Non-Null Count  Dtype  \n",
      "---  ------            --------------  -----  \n",
      " 0   page_id           16376 non-null  int64  \n",
      " 1   name              16376 non-null  object \n",
      " 2   urlslug           16376 non-null  object \n",
      " 3   ID                12606 non-null  object \n",
      " 4   ALIGN             13564 non-null  object \n",
      " 5   EYE               6609 non-null   object \n",
      " 6   HAIR              12112 non-null  object \n",
      " 7   SEX               15522 non-null  object \n",
      " 8   GSM               90 non-null     object \n",
      " 9   ALIVE             16373 non-null  object \n",
      " 10  APPEARANCES       15280 non-null  float64\n",
      " 11  FIRST APPEARANCE  15561 non-null  object \n",
      " 12  Year              15561 non-null  float64\n",
      "dtypes: float64(2), int64(1), object(10)\n",
      "memory usage: 1.6+ MB\n"
     ]
    }
   ],
   "source": [
    "data.info()"
   ]
  },
  {
   "cell_type": "code",
   "execution_count": 14,
   "metadata": {
    "pycharm": {
     "name": "#%%\n"
    }
   },
   "outputs": [
    {
     "name": "stdout",
     "output_type": "stream",
     "text": [
      "Количество пропущенных значений\n"
     ]
    },
    {
     "data": {
      "text/plain": "page_id                 0\nname                    0\nurlslug                 0\nID                   3770\nALIGN                2812\nEYE                  9767\nHAIR                 4264\nSEX                   854\nGSM                 16286\nALIVE                   3\nAPPEARANCES          1096\nFIRST APPEARANCE      815\nYear                  815\ndtype: int64"
     },
     "execution_count": 14,
     "metadata": {},
     "output_type": "execute_result"
    }
   ],
   "source": [
    "print('Количество пропущенных значений')\n",
    "data.isnull().sum()"
   ]
  },
  {
   "cell_type": "markdown",
   "metadata": {
    "pycharm": {
     "name": "#%% md\n"
    }
   },
   "source": [
    "Удалим строки с пропущенными значениями и столбцы, не влияющие на целевой признак"
   ]
  },
  {
   "cell_type": "code",
   "execution_count": 15,
   "metadata": {
    "pycharm": {
     "name": "#%%\n"
    }
   },
   "outputs": [],
   "source": [
    "#Удаление строк с пустыми значениями\n",
    "data = data.dropna(axis=0)"
   ]
  },
  {
   "cell_type": "code",
   "execution_count": 16,
   "metadata": {
    "pycharm": {
     "name": "#%%\n"
    }
   },
   "outputs": [
    {
     "data": {
      "text/plain": "page_id             0\nname                0\nurlslug             0\nID                  0\nALIGN               0\nEYE                 0\nHAIR                0\nSEX                 0\nGSM                 0\nALIVE               0\nAPPEARANCES         0\nFIRST APPEARANCE    0\nYear                0\ndtype: int64"
     },
     "execution_count": 16,
     "metadata": {},
     "output_type": "execute_result"
    }
   ],
   "source": [
    "data.isnull().sum()"
   ]
  },
  {
   "cell_type": "code",
   "execution_count": 17,
   "metadata": {
    "pycharm": {
     "name": "#%%\n"
    }
   },
   "outputs": [
    {
     "name": "stdout",
     "output_type": "stream",
     "text": [
      "<class 'pandas.core.frame.DataFrame'>\n",
      "Int64Index: 58 entries, 28 to 14106\n",
      "Data columns (total 13 columns):\n",
      " #   Column            Non-Null Count  Dtype  \n",
      "---  ------            --------------  -----  \n",
      " 0   page_id           58 non-null     int64  \n",
      " 1   name              58 non-null     object \n",
      " 2   urlslug           58 non-null     object \n",
      " 3   ID                58 non-null     object \n",
      " 4   ALIGN             58 non-null     object \n",
      " 5   EYE               58 non-null     object \n",
      " 6   HAIR              58 non-null     object \n",
      " 7   SEX               58 non-null     object \n",
      " 8   GSM               58 non-null     object \n",
      " 9   ALIVE             58 non-null     object \n",
      " 10  APPEARANCES       58 non-null     float64\n",
      " 11  FIRST APPEARANCE  58 non-null     object \n",
      " 12  Year              58 non-null     float64\n",
      "dtypes: float64(2), int64(1), object(10)\n",
      "memory usage: 6.3+ KB\n"
     ]
    }
   ],
   "source": [
    "data = data[:500]\n",
    "data.info()"
   ]
  },
  {
   "cell_type": "markdown",
   "metadata": {
    "pycharm": {
     "name": "#%% md\n"
    }
   },
   "source": [
    "Для решения задачи классификации выполним кодирование категориальных признаков"
   ]
  },
  {
   "cell_type": "code",
   "execution_count": 18,
   "metadata": {
    "pycharm": {
     "name": "#%%\n"
    }
   },
   "outputs": [
    {
     "name": "stdout",
     "output_type": "stream",
     "text": [
      "page_id - 58\n",
      "name - 58\n",
      "urlslug - 58\n",
      "ID - 3\n",
      "ALIGN - 3\n",
      "EYE - 10\n",
      "HAIR - 12\n",
      "SEX - 3\n",
      "GSM - 5\n",
      "ALIVE - 2\n",
      "APPEARANCES - 48\n",
      "FIRST APPEARANCE - 50\n",
      "Year - 32\n"
     ]
    }
   ],
   "source": [
    "for col in data.columns:\n",
    "    print('{} - {}'.format(col, len(data[col].unique())))"
   ]
  },
  {
   "cell_type": "code",
   "execution_count": 19,
   "metadata": {
    "pycharm": {
     "name": "#%%\n"
    }
   },
   "outputs": [
    {
     "data": {
      "text/plain": "page_id               int64\nname                 object\nurlslug              object\nID                   object\nALIGN                object\nEYE                  object\nHAIR                 object\nSEX                  object\nGSM                  object\nALIVE                object\nAPPEARANCES         float64\nFIRST APPEARANCE     object\nYear                float64\ndtype: object"
     },
     "execution_count": 19,
     "metadata": {},
     "output_type": "execute_result"
    }
   ],
   "source": [
    "data.dtypes"
   ]
  },
  {
   "cell_type": "code",
   "execution_count": 20,
   "metadata": {
    "pycharm": {
     "name": "#%%\n"
    }
   },
   "outputs": [],
   "source": [
    "#Кодирование категориальных признаков\n",
    "LE = LabelEncoder()\n",
    "for col in data.columns:\n",
    "    if data[col].dtype == \"object\":\n",
    "        data[col] = LE.fit_transform(data[col])"
   ]
  },
  {
   "cell_type": "code",
   "execution_count": 21,
   "metadata": {
    "pycharm": {
     "name": "#%%\n"
    }
   },
   "outputs": [
    {
     "data": {
      "text/plain": "page_id               int64\nname                  int64\nurlslug               int64\nID                    int64\nALIGN                 int64\nEYE                   int64\nHAIR                  int64\nSEX                   int64\nGSM                   int64\nALIVE                 int64\nAPPEARANCES         float64\nFIRST APPEARANCE      int64\nYear                float64\ndtype: object"
     },
     "execution_count": 21,
     "metadata": {},
     "output_type": "execute_result"
    }
   ],
   "source": [
    "data.dtypes"
   ]
  },
  {
   "cell_type": "markdown",
   "metadata": {
    "pycharm": {
     "name": "#%% md\n"
    }
   },
   "source": [
    "Так как выполняется задача небинарной классификации и в тестовой выборке возможен дисбаланс классов, были выбраны следующие метрики:\n",
    " - precision\n",
    " - recall\n",
    " - f1-score\n",
    "\n",
    "Всем метрикам был задан уровень детализации average='weighted'."
   ]
  },
  {
   "cell_type": "code",
   "execution_count": 22,
   "metadata": {
    "pycharm": {
     "name": "#%%\n"
    }
   },
   "outputs": [],
   "source": [
    "def print_metrics(y_test, y_pred):\n",
    "    rep = classification_report(y_test, y_pred, output_dict=True)\n",
    "    print(\"weighted precision:\", rep['weighted avg']['precision'])\n",
    "    print(\"weighted recall:\", rep['weighted avg']['recall'])\n",
    "    print(\"weighted f1-score:\", rep['weighted avg']['f1-score'])\n",
    "    plt.figure(figsize=(4, 3))\n",
    "    plt.title('Матрица ошибок')\n",
    "    sns.heatmap(confusion_matrix(y_test, y_pred), annot=True, cmap=\"Blues\")"
   ]
  },
  {
   "cell_type": "code",
   "execution_count": 23,
   "metadata": {
    "pycharm": {
     "name": "#%%\n"
    }
   },
   "outputs": [],
   "source": [
    "x_train, x_test, y_train, y_test = train_test_split(data.drop(['ALIVE'], axis=1), data['ALIVE'], test_size=0.5, random_state=17)"
   ]
  },
  {
   "cell_type": "markdown",
   "metadata": {
    "pycharm": {
     "name": "#%% md\n"
    }
   },
   "source": [
    "SVC. Базовая модель."
   ]
  },
  {
   "cell_type": "code",
   "execution_count": 24,
   "metadata": {
    "pycharm": {
     "name": "#%%\n"
    }
   },
   "outputs": [
    {
     "data": {
      "text/plain": "            page_id          name       urlslug            ID         ALIGN  \\\ncount  2.900000e+01  2.900000e+01  2.900000e+01  2.900000e+01  2.900000e+01   \nmean   1.531342e-17  6.891039e-17  6.891039e-17 -2.297013e-17 -1.382993e-16   \nstd    1.017700e+00  1.017700e+00  1.017700e+00  1.017700e+00  1.017700e+00   \nmin   -7.283974e-01 -1.444525e+00 -1.444525e+00 -1.597502e+00 -1.443990e+00   \n25%   -7.248001e-01 -9.370943e-01 -9.370943e-01 -4.096160e-01  5.157106e-02   \n50%   -5.968647e-01 -1.477576e-01 -1.477576e-01  7.782703e-01  5.157106e-02   \n75%    5.603338e-01  8.671039e-01  8.671039e-01  7.782703e-01  5.157106e-02   \nmax    2.018800e+00  1.769203e+00  1.769203e+00  7.782703e-01  1.547132e+00   \n\n                EYE          HAIR           SEX           GSM   APPEARANCES  \\\ncount  2.900000e+01  2.900000e+01  2.900000e+01  2.900000e+01  2.900000e+01   \nmean   6.508204e-17 -1.033656e-16  7.656711e-17  1.531342e-17 -5.742533e-17   \nstd    1.017700e+00  1.017700e+00  1.017700e+00  1.017700e+00  1.017700e+00   \nmin   -1.211295e+00 -1.472665e+00 -1.090576e+00 -1.206501e+00 -6.766172e-01   \n25%   -7.300956e-01 -7.100348e-01 -1.090576e+00 -1.206501e+00 -6.173365e-01   \n50%   -2.488962e-01 -7.100348e-01  9.498567e-01  6.350006e-01 -4.826078e-01   \n75%    2.323032e-01  8.152251e-01  9.498567e-01  6.350006e-01 -8.919974e-02   \nmax    3.119500e+00  3.103115e+00  9.498567e-01  2.476502e+00  3.208961e+00   \n\n       FIRST APPEARANCE          Year  \ncount      2.900000e+01  2.900000e+01  \nmean      -5.359697e-17  3.828355e-17  \nstd        1.017700e+00  1.017700e+00  \nmin       -1.704559e+00 -2.833696e+00  \n25%       -6.689680e-01 -8.008272e-01  \n50%        2.142602e-02  3.696126e-01  \n75%        8.498988e-01  8.008272e-01  \nmax        1.609332e+00  1.108838e+00  ",
      "text/html": "<div>\n<style scoped>\n    .dataframe tbody tr th:only-of-type {\n        vertical-align: middle;\n    }\n\n    .dataframe tbody tr th {\n        vertical-align: top;\n    }\n\n    .dataframe thead th {\n        text-align: right;\n    }\n</style>\n<table border=\"1\" class=\"dataframe\">\n  <thead>\n    <tr style=\"text-align: right;\">\n      <th></th>\n      <th>page_id</th>\n      <th>name</th>\n      <th>urlslug</th>\n      <th>ID</th>\n      <th>ALIGN</th>\n      <th>EYE</th>\n      <th>HAIR</th>\n      <th>SEX</th>\n      <th>GSM</th>\n      <th>APPEARANCES</th>\n      <th>FIRST APPEARANCE</th>\n      <th>Year</th>\n    </tr>\n  </thead>\n  <tbody>\n    <tr>\n      <th>count</th>\n      <td>2.900000e+01</td>\n      <td>2.900000e+01</td>\n      <td>2.900000e+01</td>\n      <td>2.900000e+01</td>\n      <td>2.900000e+01</td>\n      <td>2.900000e+01</td>\n      <td>2.900000e+01</td>\n      <td>2.900000e+01</td>\n      <td>2.900000e+01</td>\n      <td>2.900000e+01</td>\n      <td>2.900000e+01</td>\n      <td>2.900000e+01</td>\n    </tr>\n    <tr>\n      <th>mean</th>\n      <td>1.531342e-17</td>\n      <td>6.891039e-17</td>\n      <td>6.891039e-17</td>\n      <td>-2.297013e-17</td>\n      <td>-1.382993e-16</td>\n      <td>6.508204e-17</td>\n      <td>-1.033656e-16</td>\n      <td>7.656711e-17</td>\n      <td>1.531342e-17</td>\n      <td>-5.742533e-17</td>\n      <td>-5.359697e-17</td>\n      <td>3.828355e-17</td>\n    </tr>\n    <tr>\n      <th>std</th>\n      <td>1.017700e+00</td>\n      <td>1.017700e+00</td>\n      <td>1.017700e+00</td>\n      <td>1.017700e+00</td>\n      <td>1.017700e+00</td>\n      <td>1.017700e+00</td>\n      <td>1.017700e+00</td>\n      <td>1.017700e+00</td>\n      <td>1.017700e+00</td>\n      <td>1.017700e+00</td>\n      <td>1.017700e+00</td>\n      <td>1.017700e+00</td>\n    </tr>\n    <tr>\n      <th>min</th>\n      <td>-7.283974e-01</td>\n      <td>-1.444525e+00</td>\n      <td>-1.444525e+00</td>\n      <td>-1.597502e+00</td>\n      <td>-1.443990e+00</td>\n      <td>-1.211295e+00</td>\n      <td>-1.472665e+00</td>\n      <td>-1.090576e+00</td>\n      <td>-1.206501e+00</td>\n      <td>-6.766172e-01</td>\n      <td>-1.704559e+00</td>\n      <td>-2.833696e+00</td>\n    </tr>\n    <tr>\n      <th>25%</th>\n      <td>-7.248001e-01</td>\n      <td>-9.370943e-01</td>\n      <td>-9.370943e-01</td>\n      <td>-4.096160e-01</td>\n      <td>5.157106e-02</td>\n      <td>-7.300956e-01</td>\n      <td>-7.100348e-01</td>\n      <td>-1.090576e+00</td>\n      <td>-1.206501e+00</td>\n      <td>-6.173365e-01</td>\n      <td>-6.689680e-01</td>\n      <td>-8.008272e-01</td>\n    </tr>\n    <tr>\n      <th>50%</th>\n      <td>-5.968647e-01</td>\n      <td>-1.477576e-01</td>\n      <td>-1.477576e-01</td>\n      <td>7.782703e-01</td>\n      <td>5.157106e-02</td>\n      <td>-2.488962e-01</td>\n      <td>-7.100348e-01</td>\n      <td>9.498567e-01</td>\n      <td>6.350006e-01</td>\n      <td>-4.826078e-01</td>\n      <td>2.142602e-02</td>\n      <td>3.696126e-01</td>\n    </tr>\n    <tr>\n      <th>75%</th>\n      <td>5.603338e-01</td>\n      <td>8.671039e-01</td>\n      <td>8.671039e-01</td>\n      <td>7.782703e-01</td>\n      <td>5.157106e-02</td>\n      <td>2.323032e-01</td>\n      <td>8.152251e-01</td>\n      <td>9.498567e-01</td>\n      <td>6.350006e-01</td>\n      <td>-8.919974e-02</td>\n      <td>8.498988e-01</td>\n      <td>8.008272e-01</td>\n    </tr>\n    <tr>\n      <th>max</th>\n      <td>2.018800e+00</td>\n      <td>1.769203e+00</td>\n      <td>1.769203e+00</td>\n      <td>7.782703e-01</td>\n      <td>1.547132e+00</td>\n      <td>3.119500e+00</td>\n      <td>3.103115e+00</td>\n      <td>9.498567e-01</td>\n      <td>2.476502e+00</td>\n      <td>3.208961e+00</td>\n      <td>1.609332e+00</td>\n      <td>1.108838e+00</td>\n    </tr>\n  </tbody>\n</table>\n</div>"
     },
     "execution_count": 24,
     "metadata": {},
     "output_type": "execute_result"
    }
   ],
   "source": [
    "from sklearn.preprocessing import StandardScaler\n",
    "\n",
    "scaler = StandardScaler().fit(x_train)\n",
    "x_train_scaled = pd.DataFrame(scaler.transform(x_train), columns=x_train.columns)\n",
    "x_test_scaled = pd.DataFrame(scaler.transform(x_test), columns=x_train.columns)\n",
    "x_train_scaled.describe()"
   ]
  },
  {
   "cell_type": "code",
   "execution_count": 25,
   "metadata": {
    "pycharm": {
     "name": "#%%\n"
    }
   },
   "outputs": [
    {
     "name": "stdout",
     "output_type": "stream",
     "text": [
      "weighted precision: 0.6848989298454221\n",
      "weighted recall: 0.8275862068965517\n",
      "weighted f1-score: 0.749512036434613\n"
     ]
    },
    {
     "name": "stderr",
     "output_type": "stream",
     "text": [
      "/usr/local/lib/python3.8/dist-packages/sklearn/metrics/_classification.py:1327: UndefinedMetricWarning: Precision and F-score are ill-defined and being set to 0.0 in labels with no predicted samples. Use `zero_division` parameter to control this behavior.\n",
      "  _warn_prf(average, modifier, msg_start, len(result))\n",
      "/usr/local/lib/python3.8/dist-packages/sklearn/metrics/_classification.py:1327: UndefinedMetricWarning: Precision and F-score are ill-defined and being set to 0.0 in labels with no predicted samples. Use `zero_division` parameter to control this behavior.\n",
      "  _warn_prf(average, modifier, msg_start, len(result))\n",
      "/usr/local/lib/python3.8/dist-packages/sklearn/metrics/_classification.py:1327: UndefinedMetricWarning: Precision and F-score are ill-defined and being set to 0.0 in labels with no predicted samples. Use `zero_division` parameter to control this behavior.\n",
      "  _warn_prf(average, modifier, msg_start, len(result))\n"
     ]
    },
    {
     "data": {
      "text/plain": "<Figure size 288x216 with 2 Axes>",
      "image/png": "[encoded data removed]"
     },
     "metadata": {
      "needs_background": "light"
     },
     "output_type": "display_data"
    }
   ],
   "source": [
    "svm_model = SVC()\n",
    "svm_model.fit(x_train_scaled, y_train)\n",
    "y_pred_svm = svm_model.predict(x_test_scaled)\n",
    "print_metrics(y_test, y_pred_svm)"
   ]
  },
  {
   "cell_type": "markdown",
   "metadata": {
    "pycharm": {
     "name": "#%% md\n"
    }
   },
   "source": [
    "Подбор гиперпараметров"
   ]
  },
  {
   "cell_type": "code",
   "execution_count": 26,
   "metadata": {
    "pycharm": {
     "name": "#%%\n"
    }
   },
   "outputs": [
    {
     "name": "stderr",
     "output_type": "stream",
     "text": [
      "/usr/local/lib/python3.8/dist-packages/sklearn/model_selection/_split.py:680: UserWarning: The least populated class in y has only 5 members, which is less than n_splits=10.\n",
      "  warnings.warn(\n"
     ]
    },
    {
     "name": "stdout",
     "output_type": "stream",
     "text": [
      "{'C': 3.0}\n"
     ]
    }
   ],
   "source": [
    "params = {'C': np.concatenate([np.arange(0.1, 2, 0.03), np.arange(2, 20, 1)])}\n",
    "grid_cv = GridSearchCV(estimator=svm_model, param_grid=params, cv=10, n_jobs=-1, scoring='f1_macro')\n",
    "grid_cv.fit(x_train_scaled, y_train)\n",
    "print(grid_cv.best_params_)"
   ]
  },
  {
   "cell_type": "markdown",
   "metadata": {
    "pycharm": {
     "name": "#%% md\n"
    }
   },
   "source": [
    "Лучшая модель"
   ]
  },
  {
   "cell_type": "code",
   "execution_count": 27,
   "metadata": {
    "pycharm": {
     "name": "#%%\n"
    }
   },
   "outputs": [
    {
     "name": "stdout",
     "output_type": "stream",
     "text": [
      "weighted precision: 0.6620689655172415\n",
      "weighted recall: 0.6896551724137931\n",
      "weighted f1-score: 0.6755805770584097\n"
     ]
    },
    {
     "data": {
      "text/plain": "<Figure size 288x216 with 2 Axes>",
      "image/png": "[encoded data removed]"
     },
     "metadata": {
      "needs_background": "light"
     },
     "output_type": "display_data"
    }
   ],
   "source": [
    "best_svm_model = grid_cv.best_estimator_\n",
    "best_svm_model.fit(x_train_scaled, y_train)\n",
    "y_pred_svm = best_svm_model.predict(x_test_scaled)\n",
    "print_metrics(y_test, y_pred_svm)"
   ]
  },
  {
   "cell_type": "markdown",
   "metadata": {
    "pycharm": {
     "name": "#%% md\n"
    }
   },
   "source": [
    "RandomForestClassifier. Базовая модель"
   ]
  },
  {
   "cell_type": "code",
   "execution_count": 28,
   "metadata": {
    "pycharm": {
     "name": "#%%\n"
    }
   },
   "outputs": [
    {
     "name": "stdout",
     "output_type": "stream",
     "text": [
      "weighted precision: 0.8817733990147782\n",
      "weighted recall: 0.8620689655172413\n",
      "weighted f1-score: 0.8213969938107869\n"
     ]
    },
    {
     "data": {
      "text/plain": "<Figure size 288x216 with 2 Axes>",
      "image/png": "[encoded data removed]"
     },
     "metadata": {
      "needs_background": "light"
     },
     "output_type": "display_data"
    }
   ],
   "source": [
    "rfc_model = RandomForestClassifier()\n",
    "rfc_model.fit(x_train, y_train)\n",
    "y_pred_rfc = rfc_model.predict(x_test)\n",
    "print_metrics(y_test, y_pred_rfc)"
   ]
  },
  {
   "cell_type": "markdown",
   "metadata": {
    "pycharm": {
     "name": "#%% md\n"
    }
   },
   "source": [
    "Подбор гиперпараметров"
   ]
  },
  {
   "cell_type": "code",
   "execution_count": 29,
   "metadata": {
    "pycharm": {
     "name": "#%%\n"
    }
   },
   "outputs": [
    {
     "name": "stderr",
     "output_type": "stream",
     "text": [
      "/usr/local/lib/python3.8/dist-packages/sklearn/model_selection/_split.py:680: UserWarning: The least populated class in y has only 5 members, which is less than n_splits=10.\n",
      "  warnings.warn(\n"
     ]
    },
    {
     "name": "stdout",
     "output_type": "stream",
     "text": [
      "{'criterion': 'gini', 'max_features': 2, 'min_samples_leaf': 2, 'n_estimators': 5}\n"
     ]
    }
   ],
   "source": [
    "params = {'n_estimators': [5, 10, 50, 100], 'max_features': [2, 3, 4], 'criterion': ['gini', 'entropy'], 'min_samples_leaf': [1, 2, 3, 4, 5]}\n",
    "grid_cv = GridSearchCV(estimator=rfc_model, param_grid=params, cv=10, n_jobs=-1, scoring='f1_weighted')\n",
    "grid_cv.fit(x_train, y_train)\n",
    "print(grid_cv.best_params_)"
   ]
  },
  {
   "cell_type": "markdown",
   "metadata": {
    "pycharm": {
     "name": "#%% md\n"
    }
   },
   "source": [
    "Лучшая модель"
   ]
  },
  {
   "cell_type": "code",
   "execution_count": 30,
   "metadata": {
    "pycharm": {
     "name": "#%%\n"
    }
   },
   "outputs": [
    {
     "name": "stdout",
     "output_type": "stream",
     "text": [
      "weighted precision: 0.6743295019157087\n",
      "weighted recall: 0.7586206896551724\n",
      "weighted f1-score: 0.713995943204868\n"
     ]
    },
    {
     "data": {
      "text/plain": "<Figure size 288x216 with 2 Axes>",
      "image/png": "[encoded data removed]"
     },
     "metadata": {
      "needs_background": "light"
     },
     "output_type": "display_data"
    }
   ],
   "source": [
    "best_rfc_model = grid_cv.best_estimator_\n",
    "best_rfc_model.fit(x_train, y_train)\n",
    "y_pred_rfc = best_rfc_model.predict(x_test)\n",
    "print_metrics(y_test, y_pred_rfc)"
   ]
  },
  {
   "cell_type": "markdown",
   "metadata": {
    "pycharm": {
     "name": "#%% md\n"
    }
   },
   "source": [
    "Сравнение результатов"
   ]
  },
  {
   "cell_type": "markdown",
   "metadata": {
    "pycharm": {
     "name": "#%% md\n"
    }
   },
   "source": [
    "Выведем лучшие результаты моделей"
   ]
  },
  {
   "cell_type": "code",
   "execution_count": 31,
   "metadata": {
    "pycharm": {
     "name": "#%%\n"
    }
   },
   "outputs": [
    {
     "name": "stdout",
     "output_type": "stream",
     "text": [
      "SVC result\n",
      "\n",
      "weighted precision: 0.6620689655172415\n",
      "weighted recall: 0.6896551724137931\n",
      "weighted f1-score: 0.6755805770584097\n"
     ]
    },
    {
     "data": {
      "text/plain": "<Figure size 288x216 with 2 Axes>",
      "image/png": "[encoded data removed]"
     },
     "metadata": {
      "needs_background": "light"
     },
     "output_type": "display_data"
    }
   ],
   "source": [
    "print(\"SVC result\\n\")\n",
    "print_metrics(y_test, y_pred_svm)"
   ]
  },
  {
   "cell_type": "code",
   "execution_count": 32,
   "metadata": {
    "pycharm": {
     "name": "#%%\n"
    }
   },
   "outputs": [
    {
     "name": "stdout",
     "output_type": "stream",
     "text": [
      "RandomForestClassifier result\n",
      "\n",
      "weighted precision: 0.6743295019157087\n",
      "weighted recall: 0.7586206896551724\n",
      "weighted f1-score: 0.713995943204868\n"
     ]
    },
    {
     "data": {
      "text/plain": "<Figure size 288x216 with 2 Axes>",
      "image/png": "[encoded data removed]"
     },
     "metadata": {
      "needs_background": "light"
     },
     "output_type": "display_data"
    }
   ],
   "source": [
    "print(\"RandomForestClassifier result\\n\")\n",
    "print_metrics(y_test, y_pred_rfc)"
   ]
  },
  {
   "cell_type": "markdown",
   "metadata": {
    "pycharm": {
     "name": "#%% md\n"
    }
   },
   "source": [
    "Вывод: для метода случайного леса модель по умолчанию оказалась лучше модели с подобранными параметрами. Эта же модель показала лучшие результаты по сравнению с моделями SVM."
   ]
  },
  {
   "cell_type": "code",
   "execution_count": 23,
   "metadata": {
    "pycharm": {
     "name": "#%%\n"
    }
   },
   "outputs": [],
   "source": []
  }
 ],
 "metadata": {
  "kernelspec": {
   "display_name": "Python 3 (ipykernel)",
   "language": "python",
   "name": "python3"
  },
  "language_info": {
   "codemirror_mode": {
    "name": "ipython",
    "version": 2
   },
   "file_extension": ".py",
   "mimetype": "text/x-python",
   "name": "python",
   "nbconvert_exporter": "python",
   "pygments_lexer": "ipython2",
   "version": "2.7.6"
  }
 },
 "nbformat": 4,
 "nbformat_minor": 1
}