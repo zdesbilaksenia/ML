{
 "cells": [
  {
   "cell_type": "markdown",
   "id": "7a812f3c",
   "metadata": {
    "pycharm": {
     "name": "#%% md\n"
    }
   },
   "source": [
    "# Лабораторная работа 2\n",
    "Обработка пропусков в данных, кодирование категориальных признаков, масштабирование данных.\n",
    "\n",
    "\n",
    "Цель лабораторной работы: изучение способов предварительной обработки данных для дальнейшего формирования моделей.\n",
    "\n",
    "\n",
    "Задание:\n",
    "Выбрать набор данных (датасет), содержащий категориальные признаки и пропуски в данных. Для выполнения следующих пунктов можно использовать несколько различных наборов данных (один для обработки пропусков, другой для категориальных признаков и т.д.)\n",
    "Для выбранного датасета (датасетов) на основе материалов лекции решить следующие задачи:\n",
    "обработку пропусков в данных;\n",
    "кодирование категориальных признаков;\n",
    "масштабирование данных."
   ]
  },
  {
   "cell_type": "code",
   "execution_count": 150,
   "id": "24d438a7",
   "metadata": {
    "pycharm": {
     "name": "#%%\n"
    }
   },
   "outputs": [],
   "source": [
    "import numpy as np\n",
    "import pandas as pd\n",
    "import seaborn as sns\n",
    "import matplotlib.pyplot as plt\n",
    "%matplotlib inline \n",
    "sns.set(style=\"ticks\")"
   ]
  },
  {
   "cell_type": "code",
   "execution_count": 151,
   "id": "8067fc68",
   "metadata": {
    "pycharm": {
     "name": "#%%\n"
    }
   },
   "outputs": [],
   "source": [
    "data = pd.read_csv('./crimes.csv', sep=\",\")"
   ]
  },
  {
   "cell_type": "code",
   "execution_count": 152,
   "id": "b180f9a8",
   "metadata": {
    "pycharm": {
     "name": "#%%\n"
    }
   },
   "outputs": [
    {
     "data": {
      "text/plain": "(285807, 12)"
     },
     "execution_count": 152,
     "metadata": {},
     "output_type": "execute_result"
    }
   ],
   "source": [
    "# размер набора данных\n",
    "data.shape"
   ]
  },
  {
   "cell_type": "code",
   "execution_count": 153,
   "id": "bba362e3",
   "metadata": {
    "pycharm": {
     "name": "#%%\n"
    }
   },
   "outputs": [
    {
     "data": {
      "text/plain": "CrimeDate           object\nCrimeTime           object\nCrimeCode           object\nLocation            object\nDescription         object\nInside/Outside      object\nWeapon              object\nPost               float64\nDistrict            object\nNeighborhood        object\nLocation 1          object\nTotal Incidents      int64\ndtype: object"
     },
     "execution_count": 153,
     "metadata": {},
     "output_type": "execute_result"
    }
   ],
   "source": [
    "# типы колонок\n",
    "data.dtypes"
   ]
  },
  {
   "cell_type": "code",
   "execution_count": 154,
   "id": "96867025",
   "metadata": {
    "pycharm": {
     "name": "#%%\n"
    }
   },
   "outputs": [
    {
     "data": {
      "text/plain": "CrimeDate               0\nCrimeTime               0\nCrimeCode               0\nLocation             1623\nDescription             0\nInside/Outside       4196\nWeapon             188411\nPost                  191\nDistrict               58\nNeighborhood         1701\nLocation 1           1619\nTotal Incidents         0\ndtype: int64"
     },
     "execution_count": 154,
     "metadata": {},
     "output_type": "execute_result"
    }
   ],
   "source": [
    "# проверим есть ли пропущенные значения\n",
    "data.isnull().sum()"
   ]
  },
  {
   "cell_type": "code",
   "execution_count": 155,
   "id": "6bd5ad9d",
   "metadata": {
    "pycharm": {
     "name": "#%%\n"
    }
   },
   "outputs": [
    {
     "data": {
      "text/plain": "    CrimeDate CrimeTime CrimeCode            Location           Description  \\\n0  11/12/2016  02:35:00        3B   300 SAINT PAUL PL      ROBBERY - STREET   \n1  11/12/2016  02:56:00       3CF      800 S BROADWAY  ROBBERY - COMMERCIAL   \n2  11/12/2016  03:00:00        6D    1500 PENTWOOD RD     LARCENY FROM AUTO   \n3  11/12/2016  03:00:00        6D      6600 MILTON LN     LARCENY FROM AUTO   \n4  11/12/2016  03:00:00        6E  300 W BALTIMORE ST               LARCENY   \n\n  Inside/Outside   Weapon   Post      District                Neighborhood  \\\n0              O      NaN  111.0       CENTRAL                    Downtown   \n1              I  FIREARM  213.0  SOUTHEASTERN                 Fells Point   \n2              O      NaN  413.0  NORTHEASTERN  Stonewood-Pentwood-Winston   \n3              O      NaN  424.0  NORTHEASTERN                   Westfield   \n4              O      NaN  111.0       CENTRAL                    Downtown   \n\n                        Location 1  Total Incidents  \n0  (39.2924100000, -76.6140800000)                1  \n1  (39.2824200000, -76.5928800000)                1  \n2  (39.3480500000, -76.5883400000)                1  \n3  (39.3626300000, -76.5516100000)                1  \n4  (39.2893800000, -76.6197100000)                1  ",
      "text/html": "<div>\n<style scoped>\n    .dataframe tbody tr th:only-of-type {\n        vertical-align: middle;\n    }\n\n    .dataframe tbody tr th {\n        vertical-align: top;\n    }\n\n    .dataframe thead th {\n        text-align: right;\n    }\n</style>\n<table border=\"1\" class=\"dataframe\">\n  <thead>\n    <tr style=\"text-align: right;\">\n      <th></th>\n      <th>CrimeDate</th>\n      <th>CrimeTime</th>\n      <th>CrimeCode</th>\n      <th>Location</th>\n      <th>Description</th>\n      <th>Inside/Outside</th>\n      <th>Weapon</th>\n      <th>Post</th>\n      <th>District</th>\n      <th>Neighborhood</th>\n      <th>Location 1</th>\n      <th>Total Incidents</th>\n    </tr>\n  </thead>\n  <tbody>\n    <tr>\n      <th>0</th>\n      <td>11/12/2016</td>\n      <td>02:35:00</td>\n      <td>3B</td>\n      <td>300 SAINT PAUL PL</td>\n      <td>ROBBERY - STREET</td>\n      <td>O</td>\n      <td>NaN</td>\n      <td>111.0</td>\n      <td>CENTRAL</td>\n      <td>Downtown</td>\n      <td>(39.2924100000, -76.6140800000)</td>\n      <td>1</td>\n    </tr>\n    <tr>\n      <th>1</th>\n      <td>11/12/2016</td>\n      <td>02:56:00</td>\n      <td>3CF</td>\n      <td>800 S BROADWAY</td>\n      <td>ROBBERY - COMMERCIAL</td>\n      <td>I</td>\n      <td>FIREARM</td>\n      <td>213.0</td>\n      <td>SOUTHEASTERN</td>\n      <td>Fells Point</td>\n      <td>(39.2824200000, -76.5928800000)</td>\n      <td>1</td>\n    </tr>\n    <tr>\n      <th>2</th>\n      <td>11/12/2016</td>\n      <td>03:00:00</td>\n      <td>6D</td>\n      <td>1500 PENTWOOD RD</td>\n      <td>LARCENY FROM AUTO</td>\n      <td>O</td>\n      <td>NaN</td>\n      <td>413.0</td>\n      <td>NORTHEASTERN</td>\n      <td>Stonewood-Pentwood-Winston</td>\n      <td>(39.3480500000, -76.5883400000)</td>\n      <td>1</td>\n    </tr>\n    <tr>\n      <th>3</th>\n      <td>11/12/2016</td>\n      <td>03:00:00</td>\n      <td>6D</td>\n      <td>6600 MILTON LN</td>\n      <td>LARCENY FROM AUTO</td>\n      <td>O</td>\n      <td>NaN</td>\n      <td>424.0</td>\n      <td>NORTHEASTERN</td>\n      <td>Westfield</td>\n      <td>(39.3626300000, -76.5516100000)</td>\n      <td>1</td>\n    </tr>\n    <tr>\n      <th>4</th>\n      <td>11/12/2016</td>\n      <td>03:00:00</td>\n      <td>6E</td>\n      <td>300 W BALTIMORE ST</td>\n      <td>LARCENY</td>\n      <td>O</td>\n      <td>NaN</td>\n      <td>111.0</td>\n      <td>CENTRAL</td>\n      <td>Downtown</td>\n      <td>(39.2893800000, -76.6197100000)</td>\n      <td>1</td>\n    </tr>\n  </tbody>\n</table>\n</div>"
     },
     "execution_count": 155,
     "metadata": {},
     "output_type": "execute_result"
    }
   ],
   "source": [
    "# Первые 5 строк датасета\n",
    "data.head()"
   ]
  },
  {
   "cell_type": "code",
   "execution_count": 156,
   "id": "5bf038a9",
   "metadata": {
    "pycharm": {
     "name": "#%%\n"
    }
   },
   "outputs": [
    {
     "name": "stdout",
     "output_type": "stream",
     "text": [
      "Всего строк: 285807\n"
     ]
    }
   ],
   "source": [
    "total_count = data.shape[0]\n",
    "print('Всего строк: {}'.format(total_count))"
   ]
  },
  {
   "cell_type": "markdown",
   "id": "9cdd3a0a",
   "metadata": {
    "pycharm": {
     "name": "#%% md\n"
    }
   },
   "source": [
    "## Обработка пропусков в данных"
   ]
  },
  {
   "cell_type": "markdown",
   "id": "0964ccfa",
   "metadata": {
    "pycharm": {
     "name": "#%% md\n"
    }
   },
   "source": [
    "### Простые стратегии - удаление или заполнение нулями"
   ]
  },
  {
   "cell_type": "code",
   "execution_count": 157,
   "id": "6821c307",
   "metadata": {
    "pycharm": {
     "name": "#%%\n"
    }
   },
   "outputs": [
    {
     "data": {
      "text/plain": "((285807, 12), (285807, 5))"
     },
     "execution_count": 157,
     "metadata": {},
     "output_type": "execute_result"
    }
   ],
   "source": [
    "# Удаление колонок, содержащих пустые значения\n",
    "data_new_1 = data.dropna(axis=1, how='any')\n",
    "(data.shape, data_new_1.shape)"
   ]
  },
  {
   "cell_type": "code",
   "execution_count": 158,
   "id": "f8143ac0",
   "metadata": {
    "pycharm": {
     "name": "#%%\n"
    }
   },
   "outputs": [
    {
     "data": {
      "text/plain": "    CrimeDate CrimeTime CrimeCode           Description  Total Incidents\n0  11/12/2016  02:35:00        3B      ROBBERY - STREET                1\n1  11/12/2016  02:56:00       3CF  ROBBERY - COMMERCIAL                1\n2  11/12/2016  03:00:00        6D     LARCENY FROM AUTO                1\n3  11/12/2016  03:00:00        6D     LARCENY FROM AUTO                1\n4  11/12/2016  03:00:00        6E               LARCENY                1",
      "text/html": "<div>\n<style scoped>\n    .dataframe tbody tr th:only-of-type {\n        vertical-align: middle;\n    }\n\n    .dataframe tbody tr th {\n        vertical-align: top;\n    }\n\n    .dataframe thead th {\n        text-align: right;\n    }\n</style>\n<table border=\"1\" class=\"dataframe\">\n  <thead>\n    <tr style=\"text-align: right;\">\n      <th></th>\n      <th>CrimeDate</th>\n      <th>CrimeTime</th>\n      <th>CrimeCode</th>\n      <th>Description</th>\n      <th>Total Incidents</th>\n    </tr>\n  </thead>\n  <tbody>\n    <tr>\n      <th>0</th>\n      <td>11/12/2016</td>\n      <td>02:35:00</td>\n      <td>3B</td>\n      <td>ROBBERY - STREET</td>\n      <td>1</td>\n    </tr>\n    <tr>\n      <th>1</th>\n      <td>11/12/2016</td>\n      <td>02:56:00</td>\n      <td>3CF</td>\n      <td>ROBBERY - COMMERCIAL</td>\n      <td>1</td>\n    </tr>\n    <tr>\n      <th>2</th>\n      <td>11/12/2016</td>\n      <td>03:00:00</td>\n      <td>6D</td>\n      <td>LARCENY FROM AUTO</td>\n      <td>1</td>\n    </tr>\n    <tr>\n      <th>3</th>\n      <td>11/12/2016</td>\n      <td>03:00:00</td>\n      <td>6D</td>\n      <td>LARCENY FROM AUTO</td>\n      <td>1</td>\n    </tr>\n    <tr>\n      <th>4</th>\n      <td>11/12/2016</td>\n      <td>03:00:00</td>\n      <td>6E</td>\n      <td>LARCENY</td>\n      <td>1</td>\n    </tr>\n  </tbody>\n</table>\n</div>"
     },
     "execution_count": 158,
     "metadata": {},
     "output_type": "execute_result"
    }
   ],
   "source": [
    "data_new_1.head()"
   ]
  },
  {
   "cell_type": "code",
   "execution_count": 159,
   "id": "39865c69",
   "metadata": {
    "pycharm": {
     "name": "#%%\n"
    }
   },
   "outputs": [
    {
     "data": {
      "text/plain": "((285807, 12), (95060, 12))"
     },
     "execution_count": 159,
     "metadata": {},
     "output_type": "execute_result"
    }
   ],
   "source": [
    "# Удаление строк, содержащих пустые значения\n",
    "data_new_2 = data.dropna(axis=0, how='any')\n",
    "(data.shape, data_new_2.shape)"
   ]
  },
  {
   "cell_type": "code",
   "execution_count": 160,
   "id": "4e06ac23",
   "metadata": {
    "pycharm": {
     "name": "#%%\n"
    }
   },
   "outputs": [
    {
     "data": {
      "text/plain": "     CrimeDate CrimeTime CrimeCode           Location           Description  \\\n1   11/12/2016  02:56:00       3CF     800 S BROADWAY  ROBBERY - COMMERCIAL   \n5   11/12/2016  03:00:00        4E  6900 MCCLEAN BLVD        COMMON ASSAULT   \n6   11/12/2016  03:45:00       3CO  1700 W LOMBARD ST  ROBBERY - COMMERCIAL   \n9   11/12/2016  08:00:00        4E    1200 LAURENS ST        COMMON ASSAULT   \n11  11/12/2016  09:40:00        4E   1600 N HILTON ST        COMMON ASSAULT   \n\n   Inside/Outside   Weapon   Post      District         Neighborhood  \\\n1               I  FIREARM  213.0  SOUTHEASTERN          Fells Point   \n5               I    HANDS  423.0  NORTHEASTERN       Hamilton Hills   \n6               O    OTHER  933.0      SOUTHERN         Union Square   \n9               I    HANDS  743.0       WESTERN  Sandtown-Winchester   \n11              I    HANDS  813.0  SOUTHWESTERN             Rosemont   \n\n                         Location 1  Total Incidents  \n1   (39.2824200000, -76.5928800000)                1  \n5   (39.3707000000, -76.5670900000)                1  \n6   (39.2862400000, -76.6445500000)                1  \n9   (39.3034000000, -76.6384200000)                1  \n11  (39.3058700000, -76.6721600000)                1  ",
      "text/html": "<div>\n<style scoped>\n    .dataframe tbody tr th:only-of-type {\n        vertical-align: middle;\n    }\n\n    .dataframe tbody tr th {\n        vertical-align: top;\n    }\n\n    .dataframe thead th {\n        text-align: right;\n    }\n</style>\n<table border=\"1\" class=\"dataframe\">\n  <thead>\n    <tr style=\"text-align: right;\">\n      <th></th>\n      <th>CrimeDate</th>\n      <th>CrimeTime</th>\n      <th>CrimeCode</th>\n      <th>Location</th>\n      <th>Description</th>\n      <th>Inside/Outside</th>\n      <th>Weapon</th>\n      <th>Post</th>\n      <th>District</th>\n      <th>Neighborhood</th>\n      <th>Location 1</th>\n      <th>Total Incidents</th>\n    </tr>\n  </thead>\n  <tbody>\n    <tr>\n      <th>1</th>\n      <td>11/12/2016</td>\n      <td>02:56:00</td>\n      <td>3CF</td>\n      <td>800 S BROADWAY</td>\n      <td>ROBBERY - COMMERCIAL</td>\n      <td>I</td>\n      <td>FIREARM</td>\n      <td>213.0</td>\n      <td>SOUTHEASTERN</td>\n      <td>Fells Point</td>\n      <td>(39.2824200000, -76.5928800000)</td>\n      <td>1</td>\n    </tr>\n    <tr>\n      <th>5</th>\n      <td>11/12/2016</td>\n      <td>03:00:00</td>\n      <td>4E</td>\n      <td>6900 MCCLEAN BLVD</td>\n      <td>COMMON ASSAULT</td>\n      <td>I</td>\n      <td>HANDS</td>\n      <td>423.0</td>\n      <td>NORTHEASTERN</td>\n      <td>Hamilton Hills</td>\n      <td>(39.3707000000, -76.5670900000)</td>\n      <td>1</td>\n    </tr>\n    <tr>\n      <th>6</th>\n      <td>11/12/2016</td>\n      <td>03:45:00</td>\n      <td>3CO</td>\n      <td>1700 W LOMBARD ST</td>\n      <td>ROBBERY - COMMERCIAL</td>\n      <td>O</td>\n      <td>OTHER</td>\n      <td>933.0</td>\n      <td>SOUTHERN</td>\n      <td>Union Square</td>\n      <td>(39.2862400000, -76.6445500000)</td>\n      <td>1</td>\n    </tr>\n    <tr>\n      <th>9</th>\n      <td>11/12/2016</td>\n      <td>08:00:00</td>\n      <td>4E</td>\n      <td>1200 LAURENS ST</td>\n      <td>COMMON ASSAULT</td>\n      <td>I</td>\n      <td>HANDS</td>\n      <td>743.0</td>\n      <td>WESTERN</td>\n      <td>Sandtown-Winchester</td>\n      <td>(39.3034000000, -76.6384200000)</td>\n      <td>1</td>\n    </tr>\n    <tr>\n      <th>11</th>\n      <td>11/12/2016</td>\n      <td>09:40:00</td>\n      <td>4E</td>\n      <td>1600 N HILTON ST</td>\n      <td>COMMON ASSAULT</td>\n      <td>I</td>\n      <td>HANDS</td>\n      <td>813.0</td>\n      <td>SOUTHWESTERN</td>\n      <td>Rosemont</td>\n      <td>(39.3058700000, -76.6721600000)</td>\n      <td>1</td>\n    </tr>\n  </tbody>\n</table>\n</div>"
     },
     "execution_count": 160,
     "metadata": {},
     "output_type": "execute_result"
    }
   ],
   "source": [
    "data_new_2.head()"
   ]
  },
  {
   "cell_type": "markdown",
   "id": "77bbdb03",
   "metadata": {
    "pycharm": {
     "name": "#%% md\n"
    }
   },
   "source": [
    "## \"Внедрение значений\" - импьютация (imputation)"
   ]
  },
  {
   "cell_type": "code",
   "execution_count": 161,
   "id": "983a795c",
   "metadata": {
    "pycharm": {
     "name": "#%%\n"
    }
   },
   "outputs": [
    {
     "name": "stdout",
     "output_type": "stream",
     "text": [
      "Колонка Post. Тип данных float64. Количество пустых значений 191, 0.07%.\n"
     ]
    }
   ],
   "source": [
    "# Выберем числовые колонки с пропущенными значениями\n",
    "# Цикл по колонкам датасета\n",
    "num_cols = []\n",
    "for col in data.columns:\n",
    "    # Количество пустых значений \n",
    "    temp_null_count = data[data[col].isnull()].shape[0]\n",
    "    dt = str(data[col].dtype)\n",
    "    if temp_null_count>0 and (dt=='float64' or dt=='int64'):\n",
    "        num_cols.append(col)\n",
    "        temp_perc = round((temp_null_count / total_count) * 100.0, 2)\n",
    "        print('Колонка {}. Тип данных {}. Количество пустых значений {}, {}%.'.format(col, dt, temp_null_count, temp_perc))"
   ]
  },
  {
   "cell_type": "code",
   "execution_count": 162,
   "id": "77d069a4",
   "metadata": {
    "pycharm": {
     "name": "#%%\n"
    }
   },
   "outputs": [
    {
     "data": {
      "text/plain": "         Post\n0       111.0\n1       213.0\n2       413.0\n3       424.0\n4       111.0\n...       ...\n285802  423.0\n285803  232.0\n285804  721.0\n285805  714.0\n285806  123.0\n\n[285807 rows x 1 columns]",
      "text/html": "<div>\n<style scoped>\n    .dataframe tbody tr th:only-of-type {\n        vertical-align: middle;\n    }\n\n    .dataframe tbody tr th {\n        vertical-align: top;\n    }\n\n    .dataframe thead th {\n        text-align: right;\n    }\n</style>\n<table border=\"1\" class=\"dataframe\">\n  <thead>\n    <tr style=\"text-align: right;\">\n      <th></th>\n      <th>Post</th>\n    </tr>\n  </thead>\n  <tbody>\n    <tr>\n      <th>0</th>\n      <td>111.0</td>\n    </tr>\n    <tr>\n      <th>1</th>\n      <td>213.0</td>\n    </tr>\n    <tr>\n      <th>2</th>\n      <td>413.0</td>\n    </tr>\n    <tr>\n      <th>3</th>\n      <td>424.0</td>\n    </tr>\n    <tr>\n      <th>4</th>\n      <td>111.0</td>\n    </tr>\n    <tr>\n      <th>...</th>\n      <td>...</td>\n    </tr>\n    <tr>\n      <th>285802</th>\n      <td>423.0</td>\n    </tr>\n    <tr>\n      <th>285803</th>\n      <td>232.0</td>\n    </tr>\n    <tr>\n      <th>285804</th>\n      <td>721.0</td>\n    </tr>\n    <tr>\n      <th>285805</th>\n      <td>714.0</td>\n    </tr>\n    <tr>\n      <th>285806</th>\n      <td>123.0</td>\n    </tr>\n  </tbody>\n</table>\n<p>285807 rows × 1 columns</p>\n</div>"
     },
     "execution_count": 162,
     "metadata": {},
     "output_type": "execute_result"
    }
   ],
   "source": [
    "# Фильтр по колонкам с пропущенными значениями\n",
    "data_num = data[num_cols]\n",
    "data_num"
   ]
  },
  {
   "cell_type": "code",
   "execution_count": 163,
   "id": "c13faa86",
   "metadata": {
    "scrolled": false,
    "pycharm": {
     "name": "#%%\n"
    }
   },
   "outputs": [
    {
     "data": {
      "text/plain": "<Figure size 432x288 with 1 Axes>",
      "image/png": "[encoded data removed]"
     },
     "metadata": {},
     "output_type": "display_data"
    }
   ],
   "source": [
    "# Гистограмма по признакам\n",
    "for col in data_num:\n",
    "    plt.hist(data[col], 50)\n",
    "    plt.xlabel(col)\n",
    "    plt.show()"
   ]
  },
  {
   "cell_type": "code",
   "execution_count": 164,
   "id": "b9fb69dd",
   "metadata": {
    "pycharm": {
     "name": "#%%\n"
    }
   },
   "outputs": [
    {
     "data": {
      "text/plain": "    Post\n0  111.0\n1  213.0\n2  413.0\n3  424.0\n4  111.0",
      "text/html": "<div>\n<style scoped>\n    .dataframe tbody tr th:only-of-type {\n        vertical-align: middle;\n    }\n\n    .dataframe tbody tr th {\n        vertical-align: top;\n    }\n\n    .dataframe thead th {\n        text-align: right;\n    }\n</style>\n<table border=\"1\" class=\"dataframe\">\n  <thead>\n    <tr style=\"text-align: right;\">\n      <th></th>\n      <th>Post</th>\n    </tr>\n  </thead>\n  <tbody>\n    <tr>\n      <th>0</th>\n      <td>111.0</td>\n    </tr>\n    <tr>\n      <th>1</th>\n      <td>213.0</td>\n    </tr>\n    <tr>\n      <th>2</th>\n      <td>413.0</td>\n    </tr>\n    <tr>\n      <th>3</th>\n      <td>424.0</td>\n    </tr>\n    <tr>\n      <th>4</th>\n      <td>111.0</td>\n    </tr>\n  </tbody>\n</table>\n</div>"
     },
     "execution_count": 164,
     "metadata": {},
     "output_type": "execute_result"
    }
   ],
   "source": [
    "data_num_inspection_scores = data_num[['Post']]\n",
    "data_num_inspection_scores.head()"
   ]
  },
  {
   "cell_type": "code",
   "execution_count": 165,
   "id": "52955f68",
   "metadata": {
    "pycharm": {
     "name": "#%%\n"
    }
   },
   "outputs": [],
   "source": [
    "from sklearn.impute import SimpleImputer\n",
    "from sklearn.impute import MissingIndicator"
   ]
  },
  {
   "cell_type": "code",
   "execution_count": 166,
   "id": "61e52de1",
   "metadata": {
    "pycharm": {
     "name": "#%%\n"
    }
   },
   "outputs": [
    {
     "data": {
      "text/plain": "array([[False],\n       [False],\n       [False],\n       ...,\n       [False],\n       [False],\n       [False]])"
     },
     "execution_count": 166,
     "metadata": {},
     "output_type": "execute_result"
    }
   ],
   "source": [
    "# Фильтр для проверки заполнения пустых значений\n",
    "indicator = MissingIndicator()\n",
    "mask_missing_values_only = indicator.fit_transform(data_num_inspection_scores)\n",
    "mask_missing_values_only"
   ]
  },
  {
   "cell_type": "code",
   "execution_count": 167,
   "id": "fa100362",
   "metadata": {
    "pycharm": {
     "name": "#%%\n"
    }
   },
   "outputs": [],
   "source": [
    "strategies=['mean', 'median', 'most_frequent']"
   ]
  },
  {
   "cell_type": "code",
   "execution_count": 168,
   "id": "3ed36ea7",
   "metadata": {
    "pycharm": {
     "name": "#%%\n"
    }
   },
   "outputs": [],
   "source": [
    "def test_num_impute(strategy_param):\n",
    "    imp_num = SimpleImputer(strategy=strategy_param)\n",
    "    data_num_imp = imp_num.fit_transform(data_num_inspection_scores)\n",
    "    return data_num_imp[mask_missing_values_only]"
   ]
  },
  {
   "cell_type": "code",
   "execution_count": 169,
   "id": "abc019ed",
   "metadata": {
    "pycharm": {
     "name": "#%%\n"
    }
   },
   "outputs": [
    {
     "data": {
      "text/plain": "('mean',\n array([504.23418436, 504.23418436, 504.23418436, 504.23418436,\n        504.23418436, 504.23418436, 504.23418436, 504.23418436,\n        504.23418436, 504.23418436, 504.23418436, 504.23418436,\n        504.23418436, 504.23418436, 504.23418436, 504.23418436,\n        504.23418436, 504.23418436, 504.23418436, 504.23418436,\n        504.23418436, 504.23418436, 504.23418436, 504.23418436,\n        504.23418436, 504.23418436, 504.23418436, 504.23418436,\n        504.23418436, 504.23418436, 504.23418436, 504.23418436,\n        504.23418436, 504.23418436, 504.23418436, 504.23418436,\n        504.23418436, 504.23418436, 504.23418436, 504.23418436,\n        504.23418436, 504.23418436, 504.23418436, 504.23418436,\n        504.23418436, 504.23418436, 504.23418436, 504.23418436,\n        504.23418436, 504.23418436, 504.23418436, 504.23418436,\n        504.23418436, 504.23418436, 504.23418436, 504.23418436,\n        504.23418436, 504.23418436, 504.23418436, 504.23418436,\n        504.23418436, 504.23418436, 504.23418436, 504.23418436,\n        504.23418436, 504.23418436, 504.23418436, 504.23418436,\n        504.23418436, 504.23418436, 504.23418436, 504.23418436,\n        504.23418436, 504.23418436, 504.23418436, 504.23418436,\n        504.23418436, 504.23418436, 504.23418436, 504.23418436,\n        504.23418436, 504.23418436, 504.23418436, 504.23418436,\n        504.23418436, 504.23418436, 504.23418436, 504.23418436,\n        504.23418436, 504.23418436, 504.23418436, 504.23418436,\n        504.23418436, 504.23418436, 504.23418436, 504.23418436,\n        504.23418436, 504.23418436, 504.23418436, 504.23418436,\n        504.23418436, 504.23418436, 504.23418436, 504.23418436,\n        504.23418436, 504.23418436, 504.23418436, 504.23418436,\n        504.23418436, 504.23418436, 504.23418436, 504.23418436,\n        504.23418436, 504.23418436, 504.23418436, 504.23418436,\n        504.23418436, 504.23418436, 504.23418436, 504.23418436,\n        504.23418436, 504.23418436, 504.23418436, 504.23418436,\n        504.23418436, 504.23418436, 504.23418436, 504.23418436,\n        504.23418436, 504.23418436, 504.23418436, 504.23418436,\n        504.23418436, 504.23418436, 504.23418436, 504.23418436,\n        504.23418436, 504.23418436, 504.23418436, 504.23418436,\n        504.23418436, 504.23418436, 504.23418436, 504.23418436,\n        504.23418436, 504.23418436, 504.23418436, 504.23418436,\n        504.23418436, 504.23418436, 504.23418436, 504.23418436,\n        504.23418436, 504.23418436, 504.23418436, 504.23418436,\n        504.23418436, 504.23418436, 504.23418436, 504.23418436,\n        504.23418436, 504.23418436, 504.23418436, 504.23418436,\n        504.23418436, 504.23418436, 504.23418436, 504.23418436,\n        504.23418436, 504.23418436, 504.23418436, 504.23418436,\n        504.23418436, 504.23418436, 504.23418436, 504.23418436,\n        504.23418436, 504.23418436, 504.23418436, 504.23418436,\n        504.23418436, 504.23418436, 504.23418436, 504.23418436,\n        504.23418436, 504.23418436, 504.23418436, 504.23418436,\n        504.23418436, 504.23418436, 504.23418436]))"
     },
     "execution_count": 169,
     "metadata": {},
     "output_type": "execute_result"
    }
   ],
   "source": [
    "strategies[0], test_num_impute(strategies[0])"
   ]
  },
  {
   "cell_type": "code",
   "execution_count": 175,
   "id": "d07d9769",
   "metadata": {
    "pycharm": {
     "name": "#%%\n"
    }
   },
   "outputs": [],
   "source": [
    "# Более сложная функция, которая позволяет задавать колонку и вид импьютации\n",
    "def test_num_impute_col(dataset, column, strategy_param):\n",
    "    temp_data = dataset[[column]]\n",
    "    \n",
    "    indicator = MissingIndicator()\n",
    "    mask_missing_values_only = indicator.fit_transform(temp_data)\n",
    "    \n",
    "    imp_num = SimpleImputer(strategy=strategy_param)\n",
    "    data_num_imp = imp_num.fit_transform(temp_data)\n",
    "    \n",
    "    filled_data = data_num_imp[mask_missing_values_only]\n",
    "    \n",
    "    return column, strategy_param, filled_data.size, filled_data[0], filled_data[filled_data.size-1]"
   ]
  },
  {
   "cell_type": "code",
   "execution_count": 176,
   "id": "b2593a4b",
   "metadata": {
    "pycharm": {
     "name": "#%%\n"
    }
   },
   "outputs": [
    {
     "data": {
      "text/plain": "                Post\ncount  285616.000000\nmean      504.234184\nstd       261.354783\nmin         0.000000\n25%       242.000000\n50%       445.000000\n75%       723.000000\nmax       945.000000",
      "text/html": "<div>\n<style scoped>\n    .dataframe tbody tr th:only-of-type {\n        vertical-align: middle;\n    }\n\n    .dataframe tbody tr th {\n        vertical-align: top;\n    }\n\n    .dataframe thead th {\n        text-align: right;\n    }\n</style>\n<table border=\"1\" class=\"dataframe\">\n  <thead>\n    <tr style=\"text-align: right;\">\n      <th></th>\n      <th>Post</th>\n    </tr>\n  </thead>\n  <tbody>\n    <tr>\n      <th>count</th>\n      <td>285616.000000</td>\n    </tr>\n    <tr>\n      <th>mean</th>\n      <td>504.234184</td>\n    </tr>\n    <tr>\n      <th>std</th>\n      <td>261.354783</td>\n    </tr>\n    <tr>\n      <th>min</th>\n      <td>0.000000</td>\n    </tr>\n    <tr>\n      <th>25%</th>\n      <td>242.000000</td>\n    </tr>\n    <tr>\n      <th>50%</th>\n      <td>445.000000</td>\n    </tr>\n    <tr>\n      <th>75%</th>\n      <td>723.000000</td>\n    </tr>\n    <tr>\n      <th>max</th>\n      <td>945.000000</td>\n    </tr>\n  </tbody>\n</table>\n</div>"
     },
     "execution_count": 176,
     "metadata": {},
     "output_type": "execute_result"
    }
   ],
   "source": [
    "data[['Post']].describe()"
   ]
  },
  {
   "cell_type": "code",
   "execution_count": 177,
   "id": "1a3ddd67",
   "metadata": {
    "pycharm": {
     "name": "#%%\n"
    }
   },
   "outputs": [
    {
     "data": {
      "text/plain": "('Post', 'mean', 191, 504.23418435941966, 504.23418435941966)"
     },
     "execution_count": 177,
     "metadata": {},
     "output_type": "execute_result"
    }
   ],
   "source": [
    "test_num_impute_col(data, 'Post', strategies[0])"
   ]
  },
  {
   "cell_type": "markdown",
   "id": "4e840b54",
   "metadata": {
    "pycharm": {
     "name": "#%% md\n"
    }
   },
   "source": [
    "### Обработка пропусков в категориальных данных"
   ]
  },
  {
   "cell_type": "code",
   "execution_count": 178,
   "id": "056da584",
   "metadata": {
    "pycharm": {
     "name": "#%%\n"
    }
   },
   "outputs": [
    {
     "name": "stdout",
     "output_type": "stream",
     "text": [
      "Колонка Location. Тип данных object. Количество пустых значений 1623, 0.57%.\n",
      "Колонка Inside/Outside. Тип данных object. Количество пустых значений 4196, 1.47%.\n",
      "Колонка Weapon. Тип данных object. Количество пустых значений 188411, 65.92%.\n",
      "Колонка District. Тип данных object. Количество пустых значений 58, 0.02%.\n",
      "Колонка Neighborhood. Тип данных object. Количество пустых значений 1701, 0.6%.\n",
      "Колонка Location 1. Тип данных object. Количество пустых значений 1619, 0.57%.\n"
     ]
    }
   ],
   "source": [
    "# Выберем категориальные колонки с пропущенными значениями\n",
    "# Цикл по колонкам датасета\n",
    "cat_cols = []\n",
    "for col in data.columns:\n",
    "    # Количество пустых значений \n",
    "    temp_null_count = data[data[col].isnull()].shape[0]\n",
    "    dt = str(data[col].dtype)\n",
    "    if temp_null_count>0 and (dt=='object'):\n",
    "        cat_cols.append(col)\n",
    "        temp_perc = round((temp_null_count / total_count) * 100.0, 2)\n",
    "        print('Колонка {}. Тип данных {}. Количество пустых значений {}, {}%.'.format(col, dt, temp_null_count, temp_perc))"
   ]
  },
  {
   "cell_type": "code",
   "execution_count": 179,
   "id": "ef529fca",
   "metadata": {
    "pycharm": {
     "name": "#%%\n"
    }
   },
   "outputs": [
    {
     "data": {
      "text/plain": "    Weapon\n0      NaN\n1  FIREARM\n2      NaN\n3      NaN\n4      NaN",
      "text/html": "<div>\n<style scoped>\n    .dataframe tbody tr th:only-of-type {\n        vertical-align: middle;\n    }\n\n    .dataframe tbody tr th {\n        vertical-align: top;\n    }\n\n    .dataframe thead th {\n        text-align: right;\n    }\n</style>\n<table border=\"1\" class=\"dataframe\">\n  <thead>\n    <tr style=\"text-align: right;\">\n      <th></th>\n      <th>Weapon</th>\n    </tr>\n  </thead>\n  <tbody>\n    <tr>\n      <th>0</th>\n      <td>NaN</td>\n    </tr>\n    <tr>\n      <th>1</th>\n      <td>FIREARM</td>\n    </tr>\n    <tr>\n      <th>2</th>\n      <td>NaN</td>\n    </tr>\n    <tr>\n      <th>3</th>\n      <td>NaN</td>\n    </tr>\n    <tr>\n      <th>4</th>\n      <td>NaN</td>\n    </tr>\n  </tbody>\n</table>\n</div>"
     },
     "execution_count": 179,
     "metadata": {},
     "output_type": "execute_result"
    }
   ],
   "source": [
    "cat_temp_data = data[['Weapon']]\n",
    "cat_temp_data.head()"
   ]
  },
  {
   "cell_type": "code",
   "execution_count": 180,
   "id": "5b2d6bc4",
   "metadata": {
    "pycharm": {
     "name": "#%%\n"
    }
   },
   "outputs": [
    {
     "data": {
      "text/plain": "array([nan, 'FIREARM', 'HANDS', 'OTHER', 'KNIFE'], dtype=object)"
     },
     "execution_count": 180,
     "metadata": {},
     "output_type": "execute_result"
    }
   ],
   "source": [
    "cat_temp_data['Weapon'].unique()"
   ]
  },
  {
   "cell_type": "code",
   "execution_count": 181,
   "id": "7df53b93",
   "metadata": {
    "pycharm": {
     "name": "#%%\n"
    }
   },
   "outputs": [
    {
     "data": {
      "text/plain": "(188411, 1)"
     },
     "execution_count": 181,
     "metadata": {},
     "output_type": "execute_result"
    }
   ],
   "source": [
    "cat_temp_data[cat_temp_data['Weapon'].isnull()].shape"
   ]
  },
  {
   "cell_type": "code",
   "execution_count": 182,
   "id": "96c4afe6",
   "metadata": {
    "pycharm": {
     "name": "#%%\n"
    }
   },
   "outputs": [
    {
     "data": {
      "text/plain": "array([['HANDS'],\n       ['FIREARM'],\n       ['HANDS'],\n       ...,\n       ['HANDS'],\n       ['HANDS'],\n       ['HANDS']], dtype=object)"
     },
     "execution_count": 182,
     "metadata": {},
     "output_type": "execute_result"
    }
   ],
   "source": [
    "# Импьютация наиболее частыми значениями\n",
    "imp2 = SimpleImputer(missing_values=np.nan, strategy='most_frequent')\n",
    "data_imp2 = imp2.fit_transform(cat_temp_data)\n",
    "data_imp2"
   ]
  },
  {
   "cell_type": "code",
   "execution_count": 183,
   "id": "080d73c8",
   "metadata": {
    "pycharm": {
     "name": "#%%\n"
    }
   },
   "outputs": [
    {
     "data": {
      "text/plain": "array(['FIREARM', 'HANDS', 'KNIFE', 'OTHER'], dtype=object)"
     },
     "execution_count": 183,
     "metadata": {},
     "output_type": "execute_result"
    }
   ],
   "source": [
    "# Пустые значения отсутствуют\n",
    "np.unique(data_imp2)"
   ]
  },
  {
   "cell_type": "code",
   "execution_count": 184,
   "id": "581ec94c",
   "metadata": {
    "pycharm": {
     "name": "#%%\n"
    }
   },
   "outputs": [
    {
     "data": {
      "text/plain": "array([['HANDS'],\n       ['FIREARM'],\n       ['HANDS'],\n       ...,\n       ['HANDS'],\n       ['HANDS'],\n       ['HANDS']], dtype=object)"
     },
     "execution_count": 184,
     "metadata": {},
     "output_type": "execute_result"
    }
   ],
   "source": [
    "# Импьютация константой\n",
    "imp3 = SimpleImputer(missing_values=np.nan, strategy='constant', fill_value='HANDS')\n",
    "data_imp3 = imp3.fit_transform(cat_temp_data)\n",
    "data_imp3"
   ]
  },
  {
   "cell_type": "code",
   "execution_count": 185,
   "id": "87e07e57",
   "metadata": {
    "pycharm": {
     "name": "#%%\n"
    }
   },
   "outputs": [
    {
     "data": {
      "text/plain": "array(['FIREARM', 'HANDS', 'KNIFE', 'OTHER'], dtype=object)"
     },
     "execution_count": 185,
     "metadata": {},
     "output_type": "execute_result"
    }
   ],
   "source": [
    "np.unique(data_imp3)"
   ]
  },
  {
   "cell_type": "code",
   "execution_count": 186,
   "id": "ec22d996",
   "metadata": {
    "pycharm": {
     "name": "#%%\n"
    }
   },
   "outputs": [
    {
     "data": {
      "text/plain": "240102"
     },
     "execution_count": 186,
     "metadata": {},
     "output_type": "execute_result"
    }
   ],
   "source": [
    "data_imp3[data_imp3=='HANDS'].size"
   ]
  },
  {
   "cell_type": "markdown",
   "id": "b5dff501",
   "metadata": {
    "pycharm": {
     "name": "#%% md\n"
    }
   },
   "source": [
    "## Преобразование категориальных признаков в числовые"
   ]
  },
  {
   "cell_type": "code",
   "execution_count": 187,
   "id": "75357451",
   "metadata": {
    "pycharm": {
     "name": "#%%\n"
    }
   },
   "outputs": [
    {
     "data": {
      "text/plain": "             c1\n0         HANDS\n1       FIREARM\n2         HANDS\n3         HANDS\n4         HANDS\n...         ...\n285802    HANDS\n285803    HANDS\n285804    HANDS\n285805    HANDS\n285806    HANDS\n\n[285807 rows x 1 columns]",
      "text/html": "<div>\n<style scoped>\n    .dataframe tbody tr th:only-of-type {\n        vertical-align: middle;\n    }\n\n    .dataframe tbody tr th {\n        vertical-align: top;\n    }\n\n    .dataframe thead th {\n        text-align: right;\n    }\n</style>\n<table border=\"1\" class=\"dataframe\">\n  <thead>\n    <tr style=\"text-align: right;\">\n      <th></th>\n      <th>c1</th>\n    </tr>\n  </thead>\n  <tbody>\n    <tr>\n      <th>0</th>\n      <td>HANDS</td>\n    </tr>\n    <tr>\n      <th>1</th>\n      <td>FIREARM</td>\n    </tr>\n    <tr>\n      <th>2</th>\n      <td>HANDS</td>\n    </tr>\n    <tr>\n      <th>3</th>\n      <td>HANDS</td>\n    </tr>\n    <tr>\n      <th>4</th>\n      <td>HANDS</td>\n    </tr>\n    <tr>\n      <th>...</th>\n      <td>...</td>\n    </tr>\n    <tr>\n      <th>285802</th>\n      <td>HANDS</td>\n    </tr>\n    <tr>\n      <th>285803</th>\n      <td>HANDS</td>\n    </tr>\n    <tr>\n      <th>285804</th>\n      <td>HANDS</td>\n    </tr>\n    <tr>\n      <th>285805</th>\n      <td>HANDS</td>\n    </tr>\n    <tr>\n      <th>285806</th>\n      <td>HANDS</td>\n    </tr>\n  </tbody>\n</table>\n<p>285807 rows × 1 columns</p>\n</div>"
     },
     "execution_count": 187,
     "metadata": {},
     "output_type": "execute_result"
    }
   ],
   "source": [
    "cat_enc = pd.DataFrame({'c1':data_imp2.T[0]})\n",
    "cat_enc"
   ]
  },
  {
   "cell_type": "markdown",
   "id": "8972c85f",
   "metadata": {
    "pycharm": {
     "name": "#%% md\n"
    }
   },
   "source": [
    "### Кодирование категорий целочисленными значениями (label encoding)\n",
    "\n",
    "\n",
    "#### Использование LabelEncoder"
   ]
  },
  {
   "cell_type": "code",
   "execution_count": 188,
   "id": "c0bc6c45",
   "metadata": {
    "pycharm": {
     "name": "#%%\n"
    }
   },
   "outputs": [],
   "source": [
    "from sklearn.preprocessing import LabelEncoder"
   ]
  },
  {
   "cell_type": "code",
   "execution_count": 189,
   "id": "ae0b07df",
   "metadata": {
    "pycharm": {
     "name": "#%%\n"
    }
   },
   "outputs": [
    {
     "data": {
      "text/plain": "array(['HANDS', 'FIREARM', 'OTHER', 'KNIFE'], dtype=object)"
     },
     "execution_count": 189,
     "metadata": {},
     "output_type": "execute_result"
    }
   ],
   "source": [
    "cat_enc['c1'].unique()"
   ]
  },
  {
   "cell_type": "code",
   "execution_count": 190,
   "id": "63b454ac",
   "metadata": {
    "pycharm": {
     "name": "#%%\n"
    }
   },
   "outputs": [],
   "source": [
    "le = LabelEncoder()\n",
    "cat_enc_le = le.fit_transform(cat_enc['c1'])"
   ]
  },
  {
   "cell_type": "code",
   "execution_count": 191,
   "id": "9209e14c",
   "metadata": {
    "pycharm": {
     "name": "#%%\n"
    }
   },
   "outputs": [
    {
     "data": {
      "text/plain": "array(['FIREARM', 'HANDS', 'KNIFE', 'OTHER'], dtype=object)"
     },
     "execution_count": 191,
     "metadata": {},
     "output_type": "execute_result"
    }
   ],
   "source": [
    "# Наименования категорий в соответствии с порядковыми номерами\n",
    "\n",
    "# Свойство называется classes, потому что предполагается что мы решаем \n",
    "# задачу классификации и каждое значение категории соответствует \n",
    "# какому-либо классу целевого признака\n",
    "\n",
    "le.classes_"
   ]
  },
  {
   "cell_type": "code",
   "execution_count": 192,
   "id": "3e725a8e",
   "metadata": {
    "pycharm": {
     "name": "#%%\n"
    }
   },
   "outputs": [
    {
     "data": {
      "text/plain": "array([1, 0, 1, ..., 1, 1, 1])"
     },
     "execution_count": 192,
     "metadata": {},
     "output_type": "execute_result"
    }
   ],
   "source": [
    "cat_enc_le"
   ]
  },
  {
   "cell_type": "code",
   "execution_count": 193,
   "id": "829da6eb",
   "metadata": {
    "pycharm": {
     "name": "#%%\n"
    }
   },
   "outputs": [
    {
     "data": {
      "text/plain": "array([0, 1, 2, 3])"
     },
     "execution_count": 193,
     "metadata": {},
     "output_type": "execute_result"
    }
   ],
   "source": [
    "np.unique(cat_enc_le)"
   ]
  },
  {
   "cell_type": "markdown",
   "id": "27c9a641",
   "metadata": {
    "pycharm": {
     "name": "#%% md\n"
    }
   },
   "source": [
    "#### Кодирование категорий наборами бинарных значений"
   ]
  },
  {
   "cell_type": "code",
   "execution_count": 194,
   "id": "1ac7ab12",
   "metadata": {
    "pycharm": {
     "name": "#%%\n"
    }
   },
   "outputs": [],
   "source": [
    "from sklearn.preprocessing import OneHotEncoder"
   ]
  },
  {
   "cell_type": "code",
   "execution_count": 195,
   "id": "1018ec47",
   "metadata": {
    "pycharm": {
     "name": "#%%\n"
    }
   },
   "outputs": [],
   "source": [
    "ohe = OneHotEncoder()\n",
    "cat_enc_ohe = ohe.fit_transform(cat_enc[['c1']])"
   ]
  },
  {
   "cell_type": "code",
   "execution_count": 196,
   "id": "e908702b",
   "metadata": {
    "pycharm": {
     "name": "#%%\n"
    }
   },
   "outputs": [
    {
     "data": {
      "text/plain": "(285807, 1)"
     },
     "execution_count": 196,
     "metadata": {},
     "output_type": "execute_result"
    }
   ],
   "source": [
    "cat_enc.shape"
   ]
  },
  {
   "cell_type": "code",
   "execution_count": 197,
   "id": "93bcbcc1",
   "metadata": {
    "pycharm": {
     "name": "#%%\n"
    }
   },
   "outputs": [
    {
     "data": {
      "text/plain": "(285807, 4)"
     },
     "execution_count": 197,
     "metadata": {},
     "output_type": "execute_result"
    }
   ],
   "source": [
    "cat_enc_ohe.shape"
   ]
  },
  {
   "cell_type": "code",
   "execution_count": 198,
   "id": "5f286f22",
   "metadata": {
    "pycharm": {
     "name": "#%%\n"
    }
   },
   "outputs": [
    {
     "data": {
      "text/plain": "matrix([[0., 1., 0., 0.],\n        [1., 0., 0., 0.],\n        [0., 1., 0., 0.],\n        [0., 1., 0., 0.],\n        [0., 1., 0., 0.],\n        [0., 1., 0., 0.],\n        [0., 0., 0., 1.],\n        [0., 1., 0., 0.],\n        [0., 1., 0., 0.],\n        [0., 1., 0., 0.]])"
     },
     "execution_count": 198,
     "metadata": {},
     "output_type": "execute_result"
    }
   ],
   "source": [
    "cat_enc_ohe.todense()[0:10]"
   ]
  },
  {
   "cell_type": "code",
   "execution_count": 199,
   "id": "c08316fa",
   "metadata": {
    "pycharm": {
     "name": "#%%\n"
    }
   },
   "outputs": [
    {
     "data": {
      "text/plain": "        c1\n0    HANDS\n1  FIREARM\n2    HANDS\n3    HANDS\n4    HANDS\n5    HANDS\n6    OTHER\n7    HANDS\n8    HANDS\n9    HANDS",
      "text/html": "<div>\n<style scoped>\n    .dataframe tbody tr th:only-of-type {\n        vertical-align: middle;\n    }\n\n    .dataframe tbody tr th {\n        vertical-align: top;\n    }\n\n    .dataframe thead th {\n        text-align: right;\n    }\n</style>\n<table border=\"1\" class=\"dataframe\">\n  <thead>\n    <tr style=\"text-align: right;\">\n      <th></th>\n      <th>c1</th>\n    </tr>\n  </thead>\n  <tbody>\n    <tr>\n      <th>0</th>\n      <td>HANDS</td>\n    </tr>\n    <tr>\n      <th>1</th>\n      <td>FIREARM</td>\n    </tr>\n    <tr>\n      <th>2</th>\n      <td>HANDS</td>\n    </tr>\n    <tr>\n      <th>3</th>\n      <td>HANDS</td>\n    </tr>\n    <tr>\n      <th>4</th>\n      <td>HANDS</td>\n    </tr>\n    <tr>\n      <th>5</th>\n      <td>HANDS</td>\n    </tr>\n    <tr>\n      <th>6</th>\n      <td>OTHER</td>\n    </tr>\n    <tr>\n      <th>7</th>\n      <td>HANDS</td>\n    </tr>\n    <tr>\n      <th>8</th>\n      <td>HANDS</td>\n    </tr>\n    <tr>\n      <th>9</th>\n      <td>HANDS</td>\n    </tr>\n  </tbody>\n</table>\n</div>"
     },
     "execution_count": 199,
     "metadata": {},
     "output_type": "execute_result"
    }
   ],
   "source": [
    "cat_enc.head(10)"
   ]
  },
  {
   "cell_type": "code",
   "execution_count": 200,
   "id": "e9745864",
   "metadata": {
    "pycharm": {
     "name": "#%%\n"
    }
   },
   "outputs": [
    {
     "data": {
      "text/plain": "   c1_FIREARM  c1_HANDS  c1_KNIFE  c1_OTHER\n0           0         1         0         0\n1           1         0         0         0\n2           0         1         0         0\n3           0         1         0         0\n4           0         1         0         0",
      "text/html": "<div>\n<style scoped>\n    .dataframe tbody tr th:only-of-type {\n        vertical-align: middle;\n    }\n\n    .dataframe tbody tr th {\n        vertical-align: top;\n    }\n\n    .dataframe thead th {\n        text-align: right;\n    }\n</style>\n<table border=\"1\" class=\"dataframe\">\n  <thead>\n    <tr style=\"text-align: right;\">\n      <th></th>\n      <th>c1_FIREARM</th>\n      <th>c1_HANDS</th>\n      <th>c1_KNIFE</th>\n      <th>c1_OTHER</th>\n    </tr>\n  </thead>\n  <tbody>\n    <tr>\n      <th>0</th>\n      <td>0</td>\n      <td>1</td>\n      <td>0</td>\n      <td>0</td>\n    </tr>\n    <tr>\n      <th>1</th>\n      <td>1</td>\n      <td>0</td>\n      <td>0</td>\n      <td>0</td>\n    </tr>\n    <tr>\n      <th>2</th>\n      <td>0</td>\n      <td>1</td>\n      <td>0</td>\n      <td>0</td>\n    </tr>\n    <tr>\n      <th>3</th>\n      <td>0</td>\n      <td>1</td>\n      <td>0</td>\n      <td>0</td>\n    </tr>\n    <tr>\n      <th>4</th>\n      <td>0</td>\n      <td>1</td>\n      <td>0</td>\n      <td>0</td>\n    </tr>\n  </tbody>\n</table>\n</div>"
     },
     "execution_count": 200,
     "metadata": {},
     "output_type": "execute_result"
    }
   ],
   "source": [
    "pd.get_dummies(cat_enc).head()"
   ]
  },
  {
   "cell_type": "code",
   "execution_count": 201,
   "id": "e51826f9",
   "metadata": {
    "pycharm": {
     "name": "#%%\n"
    }
   },
   "outputs": [
    {
     "data": {
      "text/plain": "   Weapon_FIREARM  Weapon_HANDS  Weapon_KNIFE  Weapon_OTHER  Weapon_nan\n0               0             0             0             0           1\n1               1             0             0             0           0\n2               0             0             0             0           1\n3               0             0             0             0           1\n4               0             0             0             0           1",
      "text/html": "<div>\n<style scoped>\n    .dataframe tbody tr th:only-of-type {\n        vertical-align: middle;\n    }\n\n    .dataframe tbody tr th {\n        vertical-align: top;\n    }\n\n    .dataframe thead th {\n        text-align: right;\n    }\n</style>\n<table border=\"1\" class=\"dataframe\">\n  <thead>\n    <tr style=\"text-align: right;\">\n      <th></th>\n      <th>Weapon_FIREARM</th>\n      <th>Weapon_HANDS</th>\n      <th>Weapon_KNIFE</th>\n      <th>Weapon_OTHER</th>\n      <th>Weapon_nan</th>\n    </tr>\n  </thead>\n  <tbody>\n    <tr>\n      <th>0</th>\n      <td>0</td>\n      <td>0</td>\n      <td>0</td>\n      <td>0</td>\n      <td>1</td>\n    </tr>\n    <tr>\n      <th>1</th>\n      <td>1</td>\n      <td>0</td>\n      <td>0</td>\n      <td>0</td>\n      <td>0</td>\n    </tr>\n    <tr>\n      <th>2</th>\n      <td>0</td>\n      <td>0</td>\n      <td>0</td>\n      <td>0</td>\n      <td>1</td>\n    </tr>\n    <tr>\n      <th>3</th>\n      <td>0</td>\n      <td>0</td>\n      <td>0</td>\n      <td>0</td>\n      <td>1</td>\n    </tr>\n    <tr>\n      <th>4</th>\n      <td>0</td>\n      <td>0</td>\n      <td>0</td>\n      <td>0</td>\n      <td>1</td>\n    </tr>\n  </tbody>\n</table>\n</div>"
     },
     "execution_count": 201,
     "metadata": {},
     "output_type": "execute_result"
    }
   ],
   "source": [
    "pd.get_dummies(cat_temp_data, dummy_na=True).head()"
   ]
  },
  {
   "cell_type": "markdown",
   "id": "02d0ae76",
   "metadata": {
    "pycharm": {
     "name": "#%% md\n"
    }
   },
   "source": [
    "## Масштабирование данных"
   ]
  },
  {
   "cell_type": "code",
   "execution_count": 202,
   "id": "8f5ca09e",
   "metadata": {
    "pycharm": {
     "name": "#%%\n"
    }
   },
   "outputs": [],
   "source": [
    "from sklearn.preprocessing import MinMaxScaler, StandardScaler, Normalizer"
   ]
  },
  {
   "cell_type": "code",
   "execution_count": 147,
   "id": "8dcae19d",
   "metadata": {
    "pycharm": {
     "name": "#%%\n"
    }
   },
   "outputs": [],
   "source": [
    "sc1 = MinMaxScaler()\n",
    "sc1_data = sc1.fit_transform(data[['Post']])"
   ]
  },
  {
   "cell_type": "code",
   "execution_count": 203,
   "id": "21b5d6af",
   "metadata": {
    "pycharm": {
     "name": "#%%\n"
    }
   },
   "outputs": [
    {
     "data": {
      "text/plain": "<Figure size 432x288 with 1 Axes>",
      "image/png": "[encoded data removed]"
     },
     "metadata": {},
     "output_type": "display_data"
    }
   ],
   "source": [
    "plt.hist(data['Post'], 50)\n",
    "plt.show()"
   ]
  },
  {
   "cell_type": "code",
   "execution_count": 204,
   "id": "78236c03",
   "metadata": {
    "pycharm": {
     "name": "#%%\n"
    }
   },
   "outputs": [
    {
     "data": {
      "text/plain": "<Figure size 432x288 with 1 Axes>",
      "image/png": "[encoded data removed]"
     },
     "metadata": {},
     "output_type": "display_data"
    }
   ],
   "source": [
    "plt.hist(sc1_data, 50)\n",
    "plt.show()"
   ]
  },
  {
   "cell_type": "markdown",
   "id": "0b62f82c",
   "metadata": {
    "pycharm": {
     "name": "#%% md\n"
    }
   },
   "source": []
  }
 ],
 "metadata": {
  "kernelspec": {
   "display_name": "Python 3 (ipykernel)",
   "language": "python",
   "name": "python3"
  },
  "language_info": {
   "codemirror_mode": {
    "name": "ipython",
    "version": 3
   },
   "file_extension": ".py",
   "mimetype": "text/x-python",
   "name": "python",
   "nbconvert_exporter": "python",
   "pygments_lexer": "ipython3",
   "version": "3.9.7"
  }
 },
 "nbformat": 4,
 "nbformat_minor": 5
}